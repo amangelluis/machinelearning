{
 "cells": [
  {
   "cell_type": "markdown",
   "metadata": {},
   "source": [
    "# Imports"
   ]
  },
  {
   "cell_type": "code",
   "execution_count": 102,
   "metadata": {},
   "outputs": [],
   "source": [
    "import numpy\n",
    "from numpy import arange\n",
    "import matplotlib.pyplot as plt\n",
    "import pandas as pd\n",
    "from sklearn.preprocessing import StandardScaler\n",
    "from sklearn.preprocessing import Normalizer\n",
    "from sklearn.model_selection import train_test_split\n",
    "from sklearn.model_selection import KFold\n",
    "from sklearn.model_selection import cross_val_score\n",
    "from sklearn.model_selection import GridSearchCV\n",
    "from sklearn.metrics import classification_report\n",
    "from sklearn.metrics import confusion_matrix\n",
    "from sklearn.metrics import accuracy_score\n",
    "from sklearn.pipeline import Pipeline\n",
    "from sklearn.linear_model import LogisticRegression\n",
    "from sklearn.tree import DecisionTreeClassifier\n",
    "from sklearn.neighbors import KNeighborsClassifier\n",
    "from sklearn.discriminant_analysis import LinearDiscriminantAnalysis\n",
    "from sklearn.naive_bayes import GaussianNB\n",
    "from sklearn.svm import SVC\n",
    "from sklearn.ensemble import AdaBoostClassifier\n",
    "from sklearn.ensemble import GradientBoostingClassifier\n",
    "from sklearn.ensemble import RandomForestClassifier\n",
    "from sklearn.ensemble import ExtraTreesClassifier\n",
    "from joblib import dump\n",
    "from joblib import load"
   ]
  },
  {
   "cell_type": "markdown",
   "metadata": {},
   "source": [
    "# Descargar Dataset"
   ]
  },
  {
   "cell_type": "code",
   "execution_count": 75,
   "metadata": {},
   "outputs": [
    {
     "data": {
      "text/html": [
       "<div>\n",
       "<style scoped>\n",
       "    .dataframe tbody tr th:only-of-type {\n",
       "        vertical-align: middle;\n",
       "    }\n",
       "\n",
       "    .dataframe tbody tr th {\n",
       "        vertical-align: top;\n",
       "    }\n",
       "\n",
       "    .dataframe thead th {\n",
       "        text-align: right;\n",
       "    }\n",
       "</style>\n",
       "<table border=\"1\" class=\"dataframe\">\n",
       "  <thead>\n",
       "    <tr style=\"text-align: right;\">\n",
       "      <th></th>\n",
       "      <th>FECHA</th>\n",
       "      <th>CODEST</th>\n",
       "      <th>VVMED</th>\n",
       "      <th>VVMAX</th>\n",
       "      <th>RVIENTO</th>\n",
       "      <th>DVMED</th>\n",
       "      <th>TMIN</th>\n",
       "      <th>TMAX</th>\n",
       "      <th>TMED</th>\n",
       "      <th>TMINABS</th>\n",
       "      <th>...</th>\n",
       "      <th>HSOL</th>\n",
       "      <th>PREC</th>\n",
       "      <th>HORAS0</th>\n",
       "      <th>HORAS7</th>\n",
       "      <th>DEWPT</th>\n",
       "      <th>DPV</th>\n",
       "      <th>ETO_PM_FAO</th>\n",
       "      <th>FECHA_2</th>\n",
       "      <th>AÑO</th>\n",
       "      <th>ESTACION</th>\n",
       "    </tr>\n",
       "  </thead>\n",
       "  <tbody>\n",
       "    <tr>\n",
       "      <th>0</th>\n",
       "      <td>23/04/2010</td>\n",
       "      <td>AL41</td>\n",
       "      <td>1.51</td>\n",
       "      <td>8.23</td>\n",
       "      <td>130.06</td>\n",
       "      <td>145.15</td>\n",
       "      <td>9.74</td>\n",
       "      <td>21.44</td>\n",
       "      <td>16.07</td>\n",
       "      <td>9.250</td>\n",
       "      <td>...</td>\n",
       "      <td>11.0</td>\n",
       "      <td>0.1</td>\n",
       "      <td>0.0</td>\n",
       "      <td>0.0</td>\n",
       "      <td>12.41</td>\n",
       "      <td>0.51</td>\n",
       "      <td>3.010548</td>\n",
       "      <td>2010-04-23</td>\n",
       "      <td>2010.0</td>\n",
       "      <td>PRIMAVERA</td>\n",
       "    </tr>\n",
       "    <tr>\n",
       "      <th>1</th>\n",
       "      <td>24/04/2010</td>\n",
       "      <td>AL41</td>\n",
       "      <td>1.64</td>\n",
       "      <td>8.13</td>\n",
       "      <td>141.92</td>\n",
       "      <td>176.62</td>\n",
       "      <td>10.79</td>\n",
       "      <td>25.06</td>\n",
       "      <td>17.78</td>\n",
       "      <td>10.330</td>\n",
       "      <td>...</td>\n",
       "      <td>12.0</td>\n",
       "      <td>0.0</td>\n",
       "      <td>0.0</td>\n",
       "      <td>0.0</td>\n",
       "      <td>11.81</td>\n",
       "      <td>0.74</td>\n",
       "      <td>4.496808</td>\n",
       "      <td>2010-04-24</td>\n",
       "      <td>2010.0</td>\n",
       "      <td>PRIMAVERA</td>\n",
       "    </tr>\n",
       "    <tr>\n",
       "      <th>2</th>\n",
       "      <td>25/04/2010</td>\n",
       "      <td>AL41</td>\n",
       "      <td>1.54</td>\n",
       "      <td>8.43</td>\n",
       "      <td>132.96</td>\n",
       "      <td>94.79</td>\n",
       "      <td>11.79</td>\n",
       "      <td>24.97</td>\n",
       "      <td>17.31</td>\n",
       "      <td>11.330</td>\n",
       "      <td>...</td>\n",
       "      <td>10.0</td>\n",
       "      <td>0.0</td>\n",
       "      <td>0.0</td>\n",
       "      <td>0.0</td>\n",
       "      <td>12.08</td>\n",
       "      <td>0.64</td>\n",
       "      <td>3.886669</td>\n",
       "      <td>2010-04-25</td>\n",
       "      <td>2010.0</td>\n",
       "      <td>PRIMAVERA</td>\n",
       "    </tr>\n",
       "    <tr>\n",
       "      <th>3</th>\n",
       "      <td>26/04/2010</td>\n",
       "      <td>AL41</td>\n",
       "      <td>1.75</td>\n",
       "      <td>9.11</td>\n",
       "      <td>151.19</td>\n",
       "      <td>130.98</td>\n",
       "      <td>8.98</td>\n",
       "      <td>25.68</td>\n",
       "      <td>17.27</td>\n",
       "      <td>8.420</td>\n",
       "      <td>...</td>\n",
       "      <td>12.0</td>\n",
       "      <td>0.0</td>\n",
       "      <td>0.0</td>\n",
       "      <td>0.0</td>\n",
       "      <td>8.83</td>\n",
       "      <td>0.96</td>\n",
       "      <td>5.082196</td>\n",
       "      <td>2010-04-26</td>\n",
       "      <td>2010.0</td>\n",
       "      <td>PRIMAVERA</td>\n",
       "    </tr>\n",
       "    <tr>\n",
       "      <th>4</th>\n",
       "      <td>27/04/2010</td>\n",
       "      <td>AL41</td>\n",
       "      <td>1.92</td>\n",
       "      <td>10.19</td>\n",
       "      <td>165.98</td>\n",
       "      <td>174.00</td>\n",
       "      <td>8.59</td>\n",
       "      <td>28.48</td>\n",
       "      <td>18.05</td>\n",
       "      <td>7.913</td>\n",
       "      <td>...</td>\n",
       "      <td>12.0</td>\n",
       "      <td>0.0</td>\n",
       "      <td>0.0</td>\n",
       "      <td>0.0</td>\n",
       "      <td>8.47</td>\n",
       "      <td>1.14</td>\n",
       "      <td>5.563509</td>\n",
       "      <td>2010-04-27</td>\n",
       "      <td>2010.0</td>\n",
       "      <td>PRIMAVERA</td>\n",
       "    </tr>\n",
       "  </tbody>\n",
       "</table>\n",
       "<p>5 rows × 28 columns</p>\n",
       "</div>"
      ],
      "text/plain": [
       "        FECHA CODEST  VVMED  VVMAX  RVIENTO   DVMED   TMIN   TMAX   TMED  \\\n",
       "0  23/04/2010   AL41   1.51   8.23   130.06  145.15   9.74  21.44  16.07   \n",
       "1  24/04/2010   AL41   1.64   8.13   141.92  176.62  10.79  25.06  17.78   \n",
       "2  25/04/2010   AL41   1.54   8.43   132.96   94.79  11.79  24.97  17.31   \n",
       "3  26/04/2010   AL41   1.75   9.11   151.19  130.98   8.98  25.68  17.27   \n",
       "4  27/04/2010   AL41   1.92  10.19   165.98  174.00   8.59  28.48  18.05   \n",
       "\n",
       "   TMINABS  ...  HSOL  PREC  HORAS0  HORAS7  DEWPT   DPV  ETO_PM_FAO  \\\n",
       "0    9.250  ...  11.0   0.1     0.0     0.0  12.41  0.51    3.010548   \n",
       "1   10.330  ...  12.0   0.0     0.0     0.0  11.81  0.74    4.496808   \n",
       "2   11.330  ...  10.0   0.0     0.0     0.0  12.08  0.64    3.886669   \n",
       "3    8.420  ...  12.0   0.0     0.0     0.0   8.83  0.96    5.082196   \n",
       "4    7.913  ...  12.0   0.0     0.0     0.0   8.47  1.14    5.563509   \n",
       "\n",
       "      FECHA_2     AÑO   ESTACION  \n",
       "0  2010-04-23  2010.0  PRIMAVERA  \n",
       "1  2010-04-24  2010.0  PRIMAVERA  \n",
       "2  2010-04-25  2010.0  PRIMAVERA  \n",
       "3  2010-04-26  2010.0  PRIMAVERA  \n",
       "4  2010-04-27  2010.0  PRIMAVERA  \n",
       "\n",
       "[5 rows x 28 columns]"
      ]
     },
     "execution_count": 75,
     "metadata": {},
     "output_type": "execute_result"
    }
   ],
   "source": [
    "dataset = pd.read_csv('/home/user/machinelearning/imida/data/AL41_valores_imputados.csv')\n",
    "dataset.head()"
   ]
  },
  {
   "cell_type": "markdown",
   "metadata": {},
   "source": [
    "# Crear columnas con las fechas"
   ]
  },
  {
   "cell_type": "code",
   "execution_count": 76,
   "metadata": {},
   "outputs": [
    {
     "name": "stdout",
     "output_type": "stream",
     "text": [
      "FECHA         datetime64[ns]\n",
      "CODEST                object\n",
      "VVMED                float64\n",
      "VVMAX                float64\n",
      "RVIENTO              float64\n",
      "DVMED                float64\n",
      "TMIN                 float64\n",
      "TMAX                 float64\n",
      "TMED                 float64\n",
      "TMINABS              float64\n",
      "TMAXABS              float64\n",
      "HRMIN                float64\n",
      "HRMAX                float64\n",
      "HRMED                float64\n",
      "HRMINABS             float64\n",
      "HRMAXABS             float64\n",
      "RADMED               float64\n",
      "RADMAX               float64\n",
      "HSOL                 float64\n",
      "PREC                 float64\n",
      "HORAS0               float64\n",
      "HORAS7               float64\n",
      "DEWPT                float64\n",
      "DPV                  float64\n",
      "ETO_PM_FAO           float64\n",
      "FECHA_2               object\n",
      "AÑO                    int32\n",
      "ESTACION              object\n",
      "DIA                    int32\n",
      "MES                    int32\n",
      "dtype: object\n"
     ]
    }
   ],
   "source": [
    "\n",
    "# convert the date column into a datetime object\n",
    "dataset['FECHA'] = pd.to_datetime(dataset['FECHA'], format=\"%d/%m/%Y\")\n",
    "\n",
    "# extract the day, month, and year components\n",
    "dataset['DIA'] = dataset['FECHA'].dt.day\n",
    "dataset['MES'] = dataset['FECHA'].dt.month\n",
    "dataset['AÑO'] = dataset['FECHA'].dt.year\n",
    "\n",
    "# show the modified data frame\n",
    "print(dataset.dtypes)\n"
   ]
  },
  {
   "cell_type": "markdown",
   "metadata": {},
   "source": [
    "# Transformar dataset"
   ]
  },
  {
   "cell_type": "markdown",
   "metadata": {},
   "source": [
    "## Separar el target"
   ]
  },
  {
   "cell_type": "code",
   "execution_count": 77,
   "metadata": {},
   "outputs": [],
   "source": [
    "dataset_reducido = dataset.select_dtypes(include=['float64', 'int64', 'int32'])\n",
    "dataset_reducido['ESTACION'] = dataset['ESTACION']\n",
    "array = dataset_reducido.values\n",
    "X = array[:,0:-1]\n",
    "Y = array[:,-1]"
   ]
  },
  {
   "cell_type": "markdown",
   "metadata": {},
   "source": [
    "## Estandarizar"
   ]
  },
  {
   "cell_type": "code",
   "execution_count": 78,
   "metadata": {},
   "outputs": [
    {
     "name": "stdout",
     "output_type": "stream",
     "text": [
      "[[-0.78218139 -0.36518946 -0.78794258 ... -1.66239415  0.82398889\n",
      "  -0.75046034]\n",
      " [-0.62288653 -0.40440915 -0.61971062 ... -1.66239415  0.93742643\n",
      "  -0.75046034]\n",
      " [-0.74542103 -0.28675007 -0.7468066  ... -1.66239415  1.05086396\n",
      "  -0.75046034]\n",
      " ...\n",
      " [ 0.79851376  0.17212037  0.79820387 ...  1.85184539 -0.99101172\n",
      "  -1.33082614]\n",
      " [ 2.07287264  1.32517941  2.07753269 ...  1.85184539 -0.87757418\n",
      "  -1.33082614]\n",
      " [ 1.10485003 -0.18085689  1.10870956 ...  1.85184539 -0.76413664\n",
      "  -1.33082614]]\n"
     ]
    }
   ],
   "source": [
    "standard_scaler = StandardScaler().fit(X)\n",
    "X_estandarizado = standard_scaler.transform(X)\n",
    "print(X_estandarizado)"
   ]
  },
  {
   "cell_type": "markdown",
   "metadata": {},
   "source": [
    "### Guardar dataset"
   ]
  },
  {
   "cell_type": "code",
   "execution_count": 79,
   "metadata": {},
   "outputs": [],
   "source": [
    "dataset_estandarizado = pd.DataFrame(X_estandarizado, columns=dataset_reducido.drop('ESTACION', axis=1).columns)\n",
    "dataset_estandarizado['ESTACION'] = dataset_reducido['ESTACION']\n",
    "dataset_estandarizado.to_csv('/home/user/machinelearning/imida/data/AL41_estandarizado.csv')"
   ]
  },
  {
   "cell_type": "markdown",
   "metadata": {},
   "source": [
    "## Normalizar"
   ]
  },
  {
   "cell_type": "code",
   "execution_count": 80,
   "metadata": {},
   "outputs": [
    {
     "name": "stdout",
     "output_type": "stream",
     "text": [
      "[[6.24578710e-04 3.40416078e-03 5.37964947e-02 ... 8.31392852e-01\n",
      "  9.51345055e-03 1.65451314e-03]\n",
      " [6.86312661e-04 3.40226947e-03 5.93911542e-02 ... 8.41151493e-01\n",
      "  1.00435999e-02 1.67393332e-03]\n",
      " [6.79451828e-04 3.71933695e-03 5.86622825e-02 ... 8.86816996e-01\n",
      "  1.10300621e-02 1.76480994e-03]\n",
      " ...\n",
      " [1.23911045e-03 4.24837870e-03 1.07041442e-01 ... 8.94372224e-01\n",
      "  3.09777613e-03 8.85078896e-04]\n",
      " [1.71744057e-03 5.60851686e-03 1.48518357e-01 ... 9.03892550e-01\n",
      "  3.57800119e-03 8.94500297e-04]\n",
      " [1.45920146e-03 4.16231236e-03 1.26194613e-01 ... 9.66900376e-01\n",
      "  4.30584037e-03 9.56853415e-04]]\n"
     ]
    }
   ],
   "source": [
    "normalizer_scaler = Normalizer().fit(X)\n",
    "X_normalizado = normalizer_scaler.transform(X)\n",
    "print(X_normalizado)"
   ]
  },
  {
   "cell_type": "markdown",
   "metadata": {},
   "source": [
    "### Guardar dataset"
   ]
  },
  {
   "cell_type": "code",
   "execution_count": 81,
   "metadata": {},
   "outputs": [],
   "source": [
    "dataset_normalizado = pd.DataFrame(X_normalizado, columns=dataset_reducido.drop('ESTACION', axis=1).columns)\n",
    "dataset_normalizado['ESTACION'] = dataset_reducido['ESTACION']\n",
    "dataset_normalizado.to_csv('/home/user/machinelearning/imida/data/AL41_normalizado.csv')"
   ]
  },
  {
   "cell_type": "markdown",
   "metadata": {},
   "source": [
    "# Evaluar algoritmos Estandarización"
   ]
  },
  {
   "cell_type": "markdown",
   "metadata": {},
   "source": [
    "## Separar Entrenamiento-Prueba"
   ]
  },
  {
   "cell_type": "code",
   "execution_count": 82,
   "metadata": {},
   "outputs": [],
   "source": [
    "validation_size = 0.20\n",
    "seed = 7\n",
    "X_train_E, X_validation_E, Y_train_E, Y_validation_E = train_test_split(X_estandarizado, Y, test_size=validation_size, random_state=seed, shuffle=False)"
   ]
  },
  {
   "cell_type": "markdown",
   "metadata": {},
   "source": [
    "## Establecimiento de valores para el entrenamiento"
   ]
  },
  {
   "cell_type": "code",
   "execution_count": 83,
   "metadata": {},
   "outputs": [],
   "source": [
    "num_folds = 10\n",
    "seed = 7\n",
    "scoring = 'accuracy'\n",
    "kfold = KFold(n_splits=num_folds, random_state=seed, shuffle=True)"
   ]
  },
  {
   "cell_type": "markdown",
   "metadata": {},
   "source": [
    "## Creación de modelos"
   ]
  },
  {
   "cell_type": "markdown",
   "metadata": {},
   "source": [
    "### Logistic Regression"
   ]
  },
  {
   "cell_type": "code",
   "execution_count": 84,
   "metadata": {},
   "outputs": [
    {
     "name": "stdout",
     "output_type": "stream",
     "text": [
      "0.9011422543701025 0.013497202351760567\n"
     ]
    }
   ],
   "source": [
    "result_lr_e = cross_val_score(LogisticRegression(max_iter=500), X_train_E, Y_train_E, cv=kfold, scoring=scoring)\n",
    "print(result_lr_e.mean(), result_lr_e.std())"
   ]
  },
  {
   "cell_type": "markdown",
   "metadata": {},
   "source": [
    "### Linear discriminant analysis"
   ]
  },
  {
   "cell_type": "code",
   "execution_count": 85,
   "metadata": {},
   "outputs": [
    {
     "name": "stdout",
     "output_type": "stream",
     "text": [
      "0.8973417721518988 0.012746206154006264\n"
     ]
    }
   ],
   "source": [
    "result_lda_e = cross_val_score(LinearDiscriminantAnalysis(), X_train_E, Y_train_E, cv=kfold, scoring=scoring)\n",
    "print(result_lda_e.mean(), result_lda_e.std())"
   ]
  },
  {
   "cell_type": "markdown",
   "metadata": {},
   "source": [
    "### k-nearest neighbors"
   ]
  },
  {
   "cell_type": "code",
   "execution_count": 86,
   "metadata": {},
   "outputs": [
    {
     "name": "stdout",
     "output_type": "stream",
     "text": [
      "0.897021297970665 0.008046092183462996\n"
     ]
    }
   ],
   "source": [
    "result_knn_e = cross_val_score(KNeighborsClassifier(), X_train_E, Y_train_E, cv=kfold, scoring=scoring)\n",
    "print(result_knn_e.mean(), result_knn_e.std())"
   ]
  },
  {
   "cell_type": "markdown",
   "metadata": {},
   "source": [
    "### Classification tree"
   ]
  },
  {
   "cell_type": "code",
   "execution_count": 87,
   "metadata": {},
   "outputs": [
    {
     "name": "stdout",
     "output_type": "stream",
     "text": [
      "0.9898643761301988 0.005258709046199353\n"
     ]
    }
   ],
   "source": [
    "result_cart_e = cross_val_score(DecisionTreeClassifier(), X_train_E, Y_train_E, cv=kfold, scoring=scoring)\n",
    "print(result_cart_e.mean(), result_cart_e.std())"
   ]
  },
  {
   "cell_type": "markdown",
   "metadata": {},
   "source": [
    "#### Despues de tunear"
   ]
  },
  {
   "cell_type": "code",
   "execution_count": 98,
   "metadata": {},
   "outputs": [
    {
     "name": "stdout",
     "output_type": "stream",
     "text": [
      "0.9901808318264014 0.0055622862557908395\n"
     ]
    }
   ],
   "source": [
    "result_cart_e = cross_val_score(DecisionTreeClassifier(max_depth=18, min_samples_split=10, min_samples_leaf=1), X_train_E, Y_train_E, cv=kfold, scoring=scoring)\n",
    "print(result_cart_e.mean(), result_cart_e.std())"
   ]
  },
  {
   "cell_type": "markdown",
   "metadata": {},
   "source": [
    "### Gaussian naive Bayes"
   ]
  },
  {
   "cell_type": "code",
   "execution_count": 89,
   "metadata": {},
   "outputs": [
    {
     "name": "stdout",
     "output_type": "stream",
     "text": [
      "0.7525336548121359 0.01769928536926431\n"
     ]
    }
   ],
   "source": [
    "result_gnb_e = cross_val_score(GaussianNB(), X_train_E, Y_train_E, cv=kfold, scoring=scoring)\n",
    "print(result_gnb_e.mean(), result_gnb_e.std())"
   ]
  },
  {
   "cell_type": "markdown",
   "metadata": {},
   "source": [
    "### Support vector machine"
   ]
  },
  {
   "cell_type": "code",
   "execution_count": 90,
   "metadata": {},
   "outputs": [
    {
     "name": "stdout",
     "output_type": "stream",
     "text": [
      "0.9195187864175207 0.011082365421168845\n"
     ]
    }
   ],
   "source": [
    "result_svc_e = cross_val_score(SVC(), X_train_E, Y_train_E, cv=kfold, scoring=scoring)\n",
    "print(result_svc_e.mean(), result_svc_e.std())"
   ]
  },
  {
   "cell_type": "markdown",
   "metadata": {},
   "source": [
    "### Boxplot"
   ]
  },
  {
   "cell_type": "markdown",
   "metadata": {},
   "source": [
    "Vemos que el que mejor funciona es el DecisionTreeClassifier (CART)"
   ]
  },
  {
   "cell_type": "code",
   "execution_count": 91,
   "metadata": {},
   "outputs": [
    {
     "data": {
      "image/png": "[encoded data removed]",
      "text/plain": [
       "<Figure size 1000x700 with 1 Axes>"
      ]
     },
     "metadata": {},
     "output_type": "display_data"
    }
   ],
   "source": [
    "fig = plt.figure(figsize=(10, 7))\n",
    "fig.suptitle('Algorithm Comparison')\n",
    "ax = fig.add_subplot(111)\n",
    "plt.boxplot([result_lr_e, result_lda_e, result_knn_e, result_cart_e, result_gnb_e, result_svc_e])\n",
    "ax.set_xticklabels(['result_lr_e', 'result_lda_e', 'result_knn_e', 'result_cart_e', 'result_gnb_e', 'result_svc_e'])\n",
    "plt.show()"
   ]
  },
  {
   "cell_type": "markdown",
   "metadata": {},
   "source": [
    "## Tunear Decision tree classifier"
   ]
  },
  {
   "cell_type": "markdown",
   "metadata": {},
   "source": [
    "La mejor combinación es un ***max_depth*** de 11, un ***min_samples_leaf*** de 2 y un ***min_samples_split*** de 9. Lo voy comentar porque sino cada vez que haga un ***run all*** se tarda demasiado aquí"
   ]
  },
  {
   "cell_type": "code",
   "execution_count": 97,
   "metadata": {},
   "outputs": [
    {
     "name": "stdout",
     "output_type": "stream",
     "text": [
      "Best: 0.991132 using {'max_depth': 18, 'min_samples_leaf': 1, 'min_samples_split': 10}\n",
      "0.989230 (0.006039) with: {'max_depth': 9, 'min_samples_leaf': 1, 'min_samples_split': 9}\n",
      "0.989862 (0.005066) with: {'max_depth': 9, 'min_samples_leaf': 1, 'min_samples_split': 10}\n",
      "0.990182 (0.006080) with: {'max_depth': 9, 'min_samples_leaf': 1, 'min_samples_split': 11}\n",
      "0.988276 (0.008400) with: {'max_depth': 9, 'min_samples_leaf': 1, 'min_samples_split': 12}\n",
      "0.988593 (0.007399) with: {'max_depth': 9, 'min_samples_leaf': 1, 'min_samples_split': 13}\n",
      "0.987641 (0.006870) with: {'max_depth': 9, 'min_samples_leaf': 1, 'min_samples_split': 14}\n",
      "0.988594 (0.005879) with: {'max_depth': 9, 'min_samples_leaf': 1, 'min_samples_split': 15}\n",
      "0.988593 (0.006530) with: {'max_depth': 9, 'min_samples_leaf': 1, 'min_samples_split': 16}\n",
      "0.987006 (0.006872) with: {'max_depth': 9, 'min_samples_leaf': 1, 'min_samples_split': 17}\n",
      "0.987641 (0.006570) with: {'max_depth': 9, 'min_samples_leaf': 1, 'min_samples_split': 18}\n",
      "0.987641 (0.006570) with: {'max_depth': 9, 'min_samples_leaf': 1, 'min_samples_split': 19}\n",
      "0.988598 (0.006356) with: {'max_depth': 9, 'min_samples_leaf': 2, 'min_samples_split': 9}\n",
      "0.989545 (0.004259) with: {'max_depth': 9, 'min_samples_leaf': 2, 'min_samples_split': 10}\n",
      "0.990179 (0.003862) with: {'max_depth': 9, 'min_samples_leaf': 2, 'min_samples_split': 11}\n",
      "0.988592 (0.006836) with: {'max_depth': 9, 'min_samples_leaf': 2, 'min_samples_split': 12}\n",
      "0.987642 (0.007155) with: {'max_depth': 9, 'min_samples_leaf': 2, 'min_samples_split': 13}\n",
      "0.988275 (0.005501) with: {'max_depth': 9, 'min_samples_leaf': 2, 'min_samples_split': 14}\n",
      "0.987959 (0.005268) with: {'max_depth': 9, 'min_samples_leaf': 2, 'min_samples_split': 15}\n",
      "0.987958 (0.005816) with: {'max_depth': 9, 'min_samples_leaf': 2, 'min_samples_split': 16}\n",
      "0.987004 (0.006578) with: {'max_depth': 9, 'min_samples_leaf': 2, 'min_samples_split': 17}\n",
      "0.987638 (0.007157) with: {'max_depth': 9, 'min_samples_leaf': 2, 'min_samples_split': 18}\n",
      "0.986689 (0.005989) with: {'max_depth': 9, 'min_samples_leaf': 2, 'min_samples_split': 19}\n",
      "0.990815 (0.004992) with: {'max_depth': 10, 'min_samples_leaf': 1, 'min_samples_split': 9}\n",
      "0.990183 (0.006240) with: {'max_depth': 10, 'min_samples_leaf': 1, 'min_samples_split': 10}\n",
      "0.990498 (0.005479) with: {'max_depth': 10, 'min_samples_leaf': 1, 'min_samples_split': 11}\n",
      "0.988595 (0.006369) with: {'max_depth': 10, 'min_samples_leaf': 1, 'min_samples_split': 12}\n",
      "0.989862 (0.006769) with: {'max_depth': 10, 'min_samples_leaf': 1, 'min_samples_split': 13}\n",
      "0.987642 (0.007431) with: {'max_depth': 10, 'min_samples_leaf': 1, 'min_samples_split': 14}\n",
      "0.988593 (0.005527) with: {'max_depth': 10, 'min_samples_leaf': 1, 'min_samples_split': 15}\n",
      "0.987960 (0.006770) with: {'max_depth': 10, 'min_samples_leaf': 1, 'min_samples_split': 16}\n",
      "0.987007 (0.006414) with: {'max_depth': 10, 'min_samples_leaf': 1, 'min_samples_split': 17}\n",
      "0.987007 (0.006256) with: {'max_depth': 10, 'min_samples_leaf': 1, 'min_samples_split': 18}\n",
      "0.987007 (0.006256) with: {'max_depth': 10, 'min_samples_leaf': 1, 'min_samples_split': 19}\n",
      "0.990494 (0.005299) with: {'max_depth': 10, 'min_samples_leaf': 2, 'min_samples_split': 9}\n",
      "0.989861 (0.003955) with: {'max_depth': 10, 'min_samples_leaf': 2, 'min_samples_split': 10}\n",
      "0.989545 (0.004259) with: {'max_depth': 10, 'min_samples_leaf': 2, 'min_samples_split': 11}\n",
      "0.988592 (0.006836) with: {'max_depth': 10, 'min_samples_leaf': 2, 'min_samples_split': 12}\n",
      "0.988275 (0.006813) with: {'max_depth': 10, 'min_samples_leaf': 2, 'min_samples_split': 13}\n",
      "0.988592 (0.005154) with: {'max_depth': 10, 'min_samples_leaf': 2, 'min_samples_split': 14}\n",
      "0.988275 (0.005124) with: {'max_depth': 10, 'min_samples_leaf': 2, 'min_samples_split': 15}\n",
      "0.987958 (0.005816) with: {'max_depth': 10, 'min_samples_leaf': 2, 'min_samples_split': 16}\n",
      "0.987005 (0.005931) with: {'max_depth': 10, 'min_samples_leaf': 2, 'min_samples_split': 17}\n",
      "0.987638 (0.007157) with: {'max_depth': 10, 'min_samples_leaf': 2, 'min_samples_split': 18}\n",
      "0.987005 (0.005931) with: {'max_depth': 10, 'min_samples_leaf': 2, 'min_samples_split': 19}\n",
      "0.989547 (0.005303) with: {'max_depth': 11, 'min_samples_leaf': 1, 'min_samples_split': 9}\n",
      "0.989547 (0.005845) with: {'max_depth': 11, 'min_samples_leaf': 1, 'min_samples_split': 10}\n",
      "0.989862 (0.005066) with: {'max_depth': 11, 'min_samples_leaf': 1, 'min_samples_split': 11}\n",
      "0.988911 (0.008055) with: {'max_depth': 11, 'min_samples_leaf': 1, 'min_samples_split': 12}\n",
      "0.988912 (0.006684) with: {'max_depth': 11, 'min_samples_leaf': 1, 'min_samples_split': 13}\n",
      "0.987959 (0.007206) with: {'max_depth': 11, 'min_samples_leaf': 1, 'min_samples_split': 14}\n",
      "0.987959 (0.008606) with: {'max_depth': 11, 'min_samples_leaf': 1, 'min_samples_split': 15}\n",
      "0.987960 (0.006770) with: {'max_depth': 11, 'min_samples_leaf': 1, 'min_samples_split': 16}\n",
      "0.987007 (0.006414) with: {'max_depth': 11, 'min_samples_leaf': 1, 'min_samples_split': 17}\n",
      "0.987640 (0.006096) with: {'max_depth': 11, 'min_samples_leaf': 1, 'min_samples_split': 18}\n",
      "0.987640 (0.006096) with: {'max_depth': 11, 'min_samples_leaf': 1, 'min_samples_split': 19}\n",
      "0.989860 (0.005977) with: {'max_depth': 11, 'min_samples_leaf': 2, 'min_samples_split': 9}\n",
      "0.989228 (0.004521) with: {'max_depth': 11, 'min_samples_leaf': 2, 'min_samples_split': 10}\n",
      "0.989545 (0.004259) with: {'max_depth': 11, 'min_samples_leaf': 2, 'min_samples_split': 11}\n",
      "0.989226 (0.005344) with: {'max_depth': 11, 'min_samples_leaf': 2, 'min_samples_split': 12}\n",
      "0.989226 (0.005153) with: {'max_depth': 11, 'min_samples_leaf': 2, 'min_samples_split': 13}\n",
      "0.987959 (0.005268) with: {'max_depth': 11, 'min_samples_leaf': 2, 'min_samples_split': 14}\n",
      "0.987641 (0.005926) with: {'max_depth': 11, 'min_samples_leaf': 2, 'min_samples_split': 15}\n",
      "0.987640 (0.006574) with: {'max_depth': 11, 'min_samples_leaf': 2, 'min_samples_split': 16}\n",
      "0.986689 (0.006154) with: {'max_depth': 11, 'min_samples_leaf': 2, 'min_samples_split': 17}\n",
      "0.986372 (0.006193) with: {'max_depth': 11, 'min_samples_leaf': 2, 'min_samples_split': 18}\n",
      "0.987322 (0.005856) with: {'max_depth': 11, 'min_samples_leaf': 2, 'min_samples_split': 19}\n",
      "0.989228 (0.005874) with: {'max_depth': 12, 'min_samples_leaf': 1, 'min_samples_split': 9}\n",
      "0.989547 (0.005671) with: {'max_depth': 12, 'min_samples_leaf': 1, 'min_samples_split': 10}\n",
      "0.990181 (0.006245) with: {'max_depth': 12, 'min_samples_leaf': 1, 'min_samples_split': 11}\n",
      "0.988595 (0.006369) with: {'max_depth': 12, 'min_samples_leaf': 1, 'min_samples_split': 12}\n",
      "0.989546 (0.007093) with: {'max_depth': 12, 'min_samples_leaf': 1, 'min_samples_split': 13}\n",
      "0.987958 (0.008002) with: {'max_depth': 12, 'min_samples_leaf': 1, 'min_samples_split': 14}\n",
      "0.987641 (0.007958) with: {'max_depth': 12, 'min_samples_leaf': 1, 'min_samples_split': 15}\n",
      "0.987960 (0.006770) with: {'max_depth': 12, 'min_samples_leaf': 1, 'min_samples_split': 16}\n",
      "0.987006 (0.006256) with: {'max_depth': 12, 'min_samples_leaf': 1, 'min_samples_split': 17}\n",
      "0.987325 (0.006653) with: {'max_depth': 12, 'min_samples_leaf': 1, 'min_samples_split': 18}\n",
      "0.987324 (0.006184) with: {'max_depth': 12, 'min_samples_leaf': 1, 'min_samples_split': 19}\n",
      "0.989862 (0.006296) with: {'max_depth': 12, 'min_samples_leaf': 2, 'min_samples_split': 9}\n",
      "0.989863 (0.004194) with: {'max_depth': 12, 'min_samples_leaf': 2, 'min_samples_split': 10}\n",
      "0.989545 (0.004259) with: {'max_depth': 12, 'min_samples_leaf': 2, 'min_samples_split': 11}\n",
      "0.988910 (0.005353) with: {'max_depth': 12, 'min_samples_leaf': 2, 'min_samples_split': 12}\n",
      "0.987641 (0.007830) with: {'max_depth': 12, 'min_samples_leaf': 2, 'min_samples_split': 13}\n",
      "0.987957 (0.006628) with: {'max_depth': 12, 'min_samples_leaf': 2, 'min_samples_split': 14}\n",
      "0.987323 (0.007377) with: {'max_depth': 12, 'min_samples_leaf': 2, 'min_samples_split': 15}\n",
      "0.989223 (0.006685) with: {'max_depth': 12, 'min_samples_leaf': 2, 'min_samples_split': 16}\n",
      "0.988588 (0.006983) with: {'max_depth': 12, 'min_samples_leaf': 2, 'min_samples_split': 17}\n",
      "0.987322 (0.005856) with: {'max_depth': 12, 'min_samples_leaf': 2, 'min_samples_split': 18}\n",
      "0.986372 (0.006193) with: {'max_depth': 12, 'min_samples_leaf': 2, 'min_samples_split': 19}\n",
      "0.989231 (0.006034) with: {'max_depth': 13, 'min_samples_leaf': 1, 'min_samples_split': 9}\n",
      "0.990181 (0.005916) with: {'max_depth': 13, 'min_samples_leaf': 1, 'min_samples_split': 10}\n",
      "0.989862 (0.005807) with: {'max_depth': 13, 'min_samples_leaf': 1, 'min_samples_split': 11}\n",
      "0.989545 (0.006347) with: {'max_depth': 13, 'min_samples_leaf': 1, 'min_samples_split': 12}\n",
      "0.988911 (0.006055) with: {'max_depth': 13, 'min_samples_leaf': 1, 'min_samples_split': 13}\n",
      "0.987642 (0.007431) with: {'max_depth': 13, 'min_samples_leaf': 1, 'min_samples_split': 14}\n",
      "0.988277 (0.006185) with: {'max_depth': 13, 'min_samples_leaf': 1, 'min_samples_split': 15}\n",
      "0.988277 (0.007237) with: {'max_depth': 13, 'min_samples_leaf': 1, 'min_samples_split': 16}\n",
      "0.987323 (0.006021) with: {'max_depth': 13, 'min_samples_leaf': 1, 'min_samples_split': 17}\n",
      "0.987325 (0.006653) with: {'max_depth': 13, 'min_samples_leaf': 1, 'min_samples_split': 18}\n",
      "0.986690 (0.006922) with: {'max_depth': 13, 'min_samples_leaf': 1, 'min_samples_split': 19}\n",
      "0.990495 (0.003467) with: {'max_depth': 13, 'min_samples_leaf': 2, 'min_samples_split': 9}\n",
      "0.989228 (0.004521) with: {'max_depth': 13, 'min_samples_leaf': 2, 'min_samples_split': 10}\n",
      "0.989862 (0.003951) with: {'max_depth': 13, 'min_samples_leaf': 2, 'min_samples_split': 11}\n",
      "0.988275 (0.006813) with: {'max_depth': 13, 'min_samples_leaf': 2, 'min_samples_split': 12}\n",
      "0.988275 (0.006813) with: {'max_depth': 13, 'min_samples_leaf': 2, 'min_samples_split': 13}\n",
      "0.988275 (0.005124) with: {'max_depth': 13, 'min_samples_leaf': 2, 'min_samples_split': 14}\n",
      "0.987958 (0.005816) with: {'max_depth': 13, 'min_samples_leaf': 2, 'min_samples_split': 15}\n",
      "0.987640 (0.006574) with: {'max_depth': 13, 'min_samples_leaf': 2, 'min_samples_split': 16}\n",
      "0.987322 (0.005856) with: {'max_depth': 13, 'min_samples_leaf': 2, 'min_samples_split': 17}\n",
      "0.986688 (0.006630) with: {'max_depth': 13, 'min_samples_leaf': 2, 'min_samples_split': 18}\n",
      "0.987005 (0.005931) with: {'max_depth': 13, 'min_samples_leaf': 2, 'min_samples_split': 19}\n",
      "0.990497 (0.004691) with: {'max_depth': 14, 'min_samples_leaf': 1, 'min_samples_split': 9}\n",
      "0.989547 (0.005845) with: {'max_depth': 14, 'min_samples_leaf': 1, 'min_samples_split': 10}\n",
      "0.989863 (0.005447) with: {'max_depth': 14, 'min_samples_leaf': 1, 'min_samples_split': 11}\n",
      "0.988912 (0.007667) with: {'max_depth': 14, 'min_samples_leaf': 1, 'min_samples_split': 12}\n",
      "0.989228 (0.006370) with: {'max_depth': 14, 'min_samples_leaf': 1, 'min_samples_split': 13}\n",
      "0.987325 (0.007092) with: {'max_depth': 14, 'min_samples_leaf': 1, 'min_samples_split': 14}\n",
      "0.988275 (0.007241) with: {'max_depth': 14, 'min_samples_leaf': 1, 'min_samples_split': 15}\n",
      "0.987960 (0.006770) with: {'max_depth': 14, 'min_samples_leaf': 1, 'min_samples_split': 16}\n",
      "0.987006 (0.006256) with: {'max_depth': 14, 'min_samples_leaf': 1, 'min_samples_split': 17}\n",
      "0.987324 (0.006184) with: {'max_depth': 14, 'min_samples_leaf': 1, 'min_samples_split': 18}\n",
      "0.987640 (0.006096) with: {'max_depth': 14, 'min_samples_leaf': 1, 'min_samples_split': 19}\n",
      "0.988279 (0.005842) with: {'max_depth': 14, 'min_samples_leaf': 2, 'min_samples_split': 9}\n",
      "0.990494 (0.005299) with: {'max_depth': 14, 'min_samples_leaf': 2, 'min_samples_split': 10}\n",
      "0.988911 (0.004958) with: {'max_depth': 14, 'min_samples_leaf': 2, 'min_samples_split': 11}\n",
      "0.987641 (0.007701) with: {'max_depth': 14, 'min_samples_leaf': 2, 'min_samples_split': 12}\n",
      "0.989225 (0.005886) with: {'max_depth': 14, 'min_samples_leaf': 2, 'min_samples_split': 13}\n",
      "0.988274 (0.005687) with: {'max_depth': 14, 'min_samples_leaf': 2, 'min_samples_split': 14}\n",
      "0.987325 (0.006498) with: {'max_depth': 14, 'min_samples_leaf': 2, 'min_samples_split': 15}\n",
      "0.988274 (0.005687) with: {'max_depth': 14, 'min_samples_leaf': 2, 'min_samples_split': 16}\n",
      "0.987005 (0.005931) with: {'max_depth': 14, 'min_samples_leaf': 2, 'min_samples_split': 17}\n",
      "0.986689 (0.005989) with: {'max_depth': 14, 'min_samples_leaf': 2, 'min_samples_split': 18}\n",
      "0.986689 (0.006154) with: {'max_depth': 14, 'min_samples_leaf': 2, 'min_samples_split': 19}\n",
      "0.989230 (0.006362) with: {'max_depth': 15, 'min_samples_leaf': 1, 'min_samples_split': 9}\n",
      "0.989863 (0.005447) with: {'max_depth': 15, 'min_samples_leaf': 1, 'min_samples_split': 10}\n",
      "0.989863 (0.005803) with: {'max_depth': 15, 'min_samples_leaf': 1, 'min_samples_split': 11}\n",
      "0.987642 (0.008326) with: {'max_depth': 15, 'min_samples_leaf': 1, 'min_samples_split': 12}\n",
      "0.988911 (0.006377) with: {'max_depth': 15, 'min_samples_leaf': 1, 'min_samples_split': 13}\n",
      "0.987959 (0.007206) with: {'max_depth': 15, 'min_samples_leaf': 1, 'min_samples_split': 14}\n",
      "0.987007 (0.007829) with: {'max_depth': 15, 'min_samples_leaf': 1, 'min_samples_split': 15}\n",
      "0.987959 (0.007479) with: {'max_depth': 15, 'min_samples_leaf': 1, 'min_samples_split': 16}\n",
      "0.987006 (0.006872) with: {'max_depth': 15, 'min_samples_leaf': 1, 'min_samples_split': 17}\n",
      "0.987324 (0.006184) with: {'max_depth': 15, 'min_samples_leaf': 1, 'min_samples_split': 18}\n",
      "0.987324 (0.006184) with: {'max_depth': 15, 'min_samples_leaf': 1, 'min_samples_split': 19}\n",
      "0.989228 (0.005334) with: {'max_depth': 15, 'min_samples_leaf': 2, 'min_samples_split': 9}\n",
      "0.989545 (0.004259) with: {'max_depth': 15, 'min_samples_leaf': 2, 'min_samples_split': 10}\n",
      "0.989544 (0.004494) with: {'max_depth': 15, 'min_samples_leaf': 2, 'min_samples_split': 11}\n",
      "0.988275 (0.006813) with: {'max_depth': 15, 'min_samples_leaf': 2, 'min_samples_split': 12}\n",
      "0.987959 (0.007065) with: {'max_depth': 15, 'min_samples_leaf': 2, 'min_samples_split': 13}\n",
      "0.987323 (0.007377) with: {'max_depth': 15, 'min_samples_leaf': 2, 'min_samples_split': 14}\n",
      "0.988592 (0.004956) with: {'max_depth': 15, 'min_samples_leaf': 2, 'min_samples_split': 15}\n",
      "0.987008 (0.006566) with: {'max_depth': 15, 'min_samples_leaf': 2, 'min_samples_split': 16}\n",
      "0.987955 (0.007067) with: {'max_depth': 15, 'min_samples_leaf': 2, 'min_samples_split': 17}\n",
      "0.987955 (0.007067) with: {'max_depth': 15, 'min_samples_leaf': 2, 'min_samples_split': 18}\n",
      "0.987005 (0.005931) with: {'max_depth': 15, 'min_samples_leaf': 2, 'min_samples_split': 19}\n",
      "0.990497 (0.005840) with: {'max_depth': 16, 'min_samples_leaf': 1, 'min_samples_split': 9}\n",
      "0.990181 (0.005562) with: {'max_depth': 16, 'min_samples_leaf': 1, 'min_samples_split': 10}\n",
      "0.990182 (0.005560) with: {'max_depth': 16, 'min_samples_leaf': 1, 'min_samples_split': 11}\n",
      "0.989227 (0.006048) with: {'max_depth': 16, 'min_samples_leaf': 1, 'min_samples_split': 12}\n",
      "0.988277 (0.007902) with: {'max_depth': 16, 'min_samples_leaf': 1, 'min_samples_split': 13}\n",
      "0.987640 (0.007702) with: {'max_depth': 16, 'min_samples_leaf': 1, 'min_samples_split': 14}\n",
      "0.987641 (0.007958) with: {'max_depth': 16, 'min_samples_leaf': 1, 'min_samples_split': 15}\n",
      "0.988276 (0.006507) with: {'max_depth': 16, 'min_samples_leaf': 1, 'min_samples_split': 16}\n",
      "0.987324 (0.006500) with: {'max_depth': 16, 'min_samples_leaf': 1, 'min_samples_split': 17}\n",
      "0.986690 (0.006922) with: {'max_depth': 16, 'min_samples_leaf': 1, 'min_samples_split': 18}\n",
      "0.987324 (0.007236) with: {'max_depth': 16, 'min_samples_leaf': 1, 'min_samples_split': 19}\n",
      "0.989546 (0.004255) with: {'max_depth': 16, 'min_samples_leaf': 2, 'min_samples_split': 9}\n",
      "0.988595 (0.005337) with: {'max_depth': 16, 'min_samples_leaf': 2, 'min_samples_split': 10}\n",
      "0.990179 (0.003862) with: {'max_depth': 16, 'min_samples_leaf': 2, 'min_samples_split': 11}\n",
      "0.988908 (0.007801) with: {'max_depth': 16, 'min_samples_leaf': 2, 'min_samples_split': 12}\n",
      "0.989541 (0.007647) with: {'max_depth': 16, 'min_samples_leaf': 2, 'min_samples_split': 13}\n",
      "0.987957 (0.006628) with: {'max_depth': 16, 'min_samples_leaf': 2, 'min_samples_split': 14}\n",
      "0.987639 (0.007302) with: {'max_depth': 16, 'min_samples_leaf': 2, 'min_samples_split': 15}\n",
      "0.987641 (0.006093) with: {'max_depth': 16, 'min_samples_leaf': 2, 'min_samples_split': 16}\n",
      "0.987955 (0.007067) with: {'max_depth': 16, 'min_samples_leaf': 2, 'min_samples_split': 17}\n",
      "0.986688 (0.006630) with: {'max_depth': 16, 'min_samples_leaf': 2, 'min_samples_split': 18}\n",
      "0.987005 (0.005931) with: {'max_depth': 16, 'min_samples_leaf': 2, 'min_samples_split': 19}\n",
      "0.989865 (0.005798) with: {'max_depth': 17, 'min_samples_leaf': 1, 'min_samples_split': 9}\n",
      "0.989229 (0.005519) with: {'max_depth': 17, 'min_samples_leaf': 1, 'min_samples_split': 10}\n",
      "0.990180 (0.005383) with: {'max_depth': 17, 'min_samples_leaf': 1, 'min_samples_split': 11}\n",
      "0.988911 (0.006983) with: {'max_depth': 17, 'min_samples_leaf': 1, 'min_samples_split': 12}\n",
      "0.989546 (0.007093) with: {'max_depth': 17, 'min_samples_leaf': 1, 'min_samples_split': 13}\n",
      "0.988277 (0.006185) with: {'max_depth': 17, 'min_samples_leaf': 1, 'min_samples_split': 14}\n",
      "0.987958 (0.006922) with: {'max_depth': 17, 'min_samples_leaf': 1, 'min_samples_split': 15}\n",
      "0.988276 (0.006507) with: {'max_depth': 17, 'min_samples_leaf': 1, 'min_samples_split': 16}\n",
      "0.987325 (0.006802) with: {'max_depth': 17, 'min_samples_leaf': 1, 'min_samples_split': 17}\n",
      "0.987640 (0.007160) with: {'max_depth': 17, 'min_samples_leaf': 1, 'min_samples_split': 18}\n",
      "0.987006 (0.005928) with: {'max_depth': 17, 'min_samples_leaf': 1, 'min_samples_split': 19}\n",
      "0.989862 (0.003951) with: {'max_depth': 17, 'min_samples_leaf': 2, 'min_samples_split': 9}\n",
      "0.989545 (0.004259) with: {'max_depth': 17, 'min_samples_leaf': 2, 'min_samples_split': 10}\n",
      "0.989863 (0.005060) with: {'max_depth': 17, 'min_samples_leaf': 2, 'min_samples_split': 11}\n",
      "0.988277 (0.006184) with: {'max_depth': 17, 'min_samples_leaf': 2, 'min_samples_split': 12}\n",
      "0.988275 (0.006813) with: {'max_depth': 17, 'min_samples_leaf': 2, 'min_samples_split': 13}\n",
      "0.987324 (0.006656) with: {'max_depth': 17, 'min_samples_leaf': 2, 'min_samples_split': 14}\n",
      "0.988592 (0.004956) with: {'max_depth': 17, 'min_samples_leaf': 2, 'min_samples_split': 15}\n",
      "0.987641 (0.005926) with: {'max_depth': 17, 'min_samples_leaf': 2, 'min_samples_split': 16}\n",
      "0.987955 (0.007067) with: {'max_depth': 17, 'min_samples_leaf': 2, 'min_samples_split': 17}\n",
      "0.987005 (0.005931) with: {'max_depth': 17, 'min_samples_leaf': 2, 'min_samples_split': 18}\n",
      "0.987322 (0.005856) with: {'max_depth': 17, 'min_samples_leaf': 2, 'min_samples_split': 19}\n",
      "0.989547 (0.006339) with: {'max_depth': 18, 'min_samples_leaf': 1, 'min_samples_split': 9}\n",
      "0.991132 (0.005444) with: {'max_depth': 18, 'min_samples_leaf': 1, 'min_samples_split': 10}\n",
      "0.989864 (0.006301) with: {'max_depth': 18, 'min_samples_leaf': 1, 'min_samples_split': 11}\n",
      "0.988594 (0.007922) with: {'max_depth': 18, 'min_samples_leaf': 1, 'min_samples_split': 12}\n",
      "0.989228 (0.006677) with: {'max_depth': 18, 'min_samples_leaf': 1, 'min_samples_split': 13}\n",
      "0.988593 (0.006530) with: {'max_depth': 18, 'min_samples_leaf': 1, 'min_samples_split': 14}\n",
      "0.988593 (0.007666) with: {'max_depth': 18, 'min_samples_leaf': 1, 'min_samples_split': 15}\n",
      "0.988594 (0.006976) with: {'max_depth': 18, 'min_samples_leaf': 1, 'min_samples_split': 16}\n",
      "0.986689 (0.006923) with: {'max_depth': 18, 'min_samples_leaf': 1, 'min_samples_split': 17}\n",
      "0.987641 (0.006570) with: {'max_depth': 18, 'min_samples_leaf': 1, 'min_samples_split': 18}\n",
      "0.987641 (0.006570) with: {'max_depth': 18, 'min_samples_leaf': 1, 'min_samples_split': 19}\n",
      "0.989545 (0.004259) with: {'max_depth': 18, 'min_samples_leaf': 2, 'min_samples_split': 9}\n",
      "0.989863 (0.004426) with: {'max_depth': 18, 'min_samples_leaf': 2, 'min_samples_split': 10}\n",
      "0.989228 (0.004521) with: {'max_depth': 18, 'min_samples_leaf': 2, 'min_samples_split': 11}\n",
      "0.989543 (0.005125) with: {'max_depth': 18, 'min_samples_leaf': 2, 'min_samples_split': 12}\n",
      "0.989543 (0.005125) with: {'max_depth': 18, 'min_samples_leaf': 2, 'min_samples_split': 13}\n",
      "0.988591 (0.005714) with: {'max_depth': 18, 'min_samples_leaf': 2, 'min_samples_split': 14}\n",
      "0.987006 (0.007437) with: {'max_depth': 18, 'min_samples_leaf': 2, 'min_samples_split': 15}\n",
      "0.987958 (0.006151) with: {'max_depth': 18, 'min_samples_leaf': 2, 'min_samples_split': 16}\n",
      "0.987954 (0.007748) with: {'max_depth': 18, 'min_samples_leaf': 2, 'min_samples_split': 17}\n",
      "0.986688 (0.006630) with: {'max_depth': 18, 'min_samples_leaf': 2, 'min_samples_split': 18}\n",
      "0.987955 (0.007067) with: {'max_depth': 18, 'min_samples_leaf': 2, 'min_samples_split': 19}\n",
      "0.989865 (0.005798) with: {'max_depth': 19, 'min_samples_leaf': 1, 'min_samples_split': 9}\n",
      "0.989547 (0.005671) with: {'max_depth': 19, 'min_samples_leaf': 1, 'min_samples_split': 10}\n",
      "0.990816 (0.005911) with: {'max_depth': 19, 'min_samples_leaf': 1, 'min_samples_split': 11}\n",
      "0.988593 (0.008418) with: {'max_depth': 19, 'min_samples_leaf': 1, 'min_samples_split': 12}\n",
      "0.987642 (0.008326) with: {'max_depth': 19, 'min_samples_leaf': 1, 'min_samples_split': 13}\n",
      "0.988276 (0.007904) with: {'max_depth': 19, 'min_samples_leaf': 1, 'min_samples_split': 14}\n",
      "0.988276 (0.007646) with: {'max_depth': 19, 'min_samples_leaf': 1, 'min_samples_split': 15}\n",
      "0.987959 (0.006149) with: {'max_depth': 19, 'min_samples_leaf': 1, 'min_samples_split': 16}\n",
      "0.987640 (0.006258) with: {'max_depth': 19, 'min_samples_leaf': 1, 'min_samples_split': 17}\n",
      "0.987006 (0.006872) with: {'max_depth': 19, 'min_samples_leaf': 1, 'min_samples_split': 18}\n",
      "0.987324 (0.006184) with: {'max_depth': 19, 'min_samples_leaf': 1, 'min_samples_split': 19}\n",
      "0.988912 (0.004953) with: {'max_depth': 19, 'min_samples_leaf': 2, 'min_samples_split': 9}\n",
      "0.990179 (0.005739) with: {'max_depth': 19, 'min_samples_leaf': 2, 'min_samples_split': 10}\n",
      "0.989228 (0.004521) with: {'max_depth': 19, 'min_samples_leaf': 2, 'min_samples_split': 11}\n",
      "0.989226 (0.005344) with: {'max_depth': 19, 'min_samples_leaf': 2, 'min_samples_split': 12}\n",
      "0.988275 (0.006813) with: {'max_depth': 19, 'min_samples_leaf': 2, 'min_samples_split': 13}\n",
      "0.988275 (0.005124) with: {'max_depth': 19, 'min_samples_leaf': 2, 'min_samples_split': 14}\n",
      "0.989541 (0.006190) with: {'max_depth': 19, 'min_samples_leaf': 2, 'min_samples_split': 15}\n",
      "0.987957 (0.006475) with: {'max_depth': 19, 'min_samples_leaf': 2, 'min_samples_split': 16}\n",
      "0.987322 (0.005856) with: {'max_depth': 19, 'min_samples_leaf': 2, 'min_samples_split': 17}\n",
      "0.987321 (0.007772) with: {'max_depth': 19, 'min_samples_leaf': 2, 'min_samples_split': 18}\n",
      "0.986371 (0.006816) with: {'max_depth': 19, 'min_samples_leaf': 2, 'min_samples_split': 19}\n"
     ]
    },
    {
     "name": "stderr",
     "output_type": "stream",
     "text": [
      "/home/user/machinelearning/env/lib/python3.11/site-packages/numpy/ma/core.py:2846: RuntimeWarning: invalid value encountered in cast\n",
      "  _data = np.array(data, dtype=dtype, copy=copy,\n"
     ]
    }
   ],
   "source": [
    "\n",
    "param_grid = dict(max_depth=range(9, 20), min_samples_split=range(9,20), min_samples_leaf=range(1,3))\n",
    "grid = GridSearchCV(estimator=DecisionTreeClassifier(), param_grid=param_grid, scoring=scoring, cv=kfold)\n",
    "grid_result = grid.fit(X_train_E, Y_train_E)\n",
    "print(\"Best: %f using %s\" % (grid_result.best_score_, grid_result.best_params_))\n",
    "means = grid_result.cv_results_['mean_test_score']\n",
    "stds = grid_result.cv_results_['std_test_score']\n",
    "params = grid_result.cv_results_['params']\n",
    "for mean, stdev, param in zip(means, stds, params):\n",
    "    print(\"%f (%f) with: %r\" % (mean, stdev, param))\n"
   ]
  },
  {
   "cell_type": "markdown",
   "metadata": {},
   "source": [
    "## Ensemble methods"
   ]
  },
  {
   "cell_type": "markdown",
   "metadata": {},
   "source": [
    "### Random forest"
   ]
  },
  {
   "cell_type": "code",
   "execution_count": 93,
   "metadata": {},
   "outputs": [
    {
     "name": "stdout",
     "output_type": "stream",
     "text": [
      "0.9702169981916817 0.00951204373646777\n"
     ]
    }
   ],
   "source": [
    "result_rf_e = cross_val_score(RandomForestClassifier(), X_train_E, Y_train_E, cv=kfold, scoring=scoring)\n",
    "print(result_rf_e.mean(), result_rf_e.std())"
   ]
  },
  {
   "cell_type": "markdown",
   "metadata": {},
   "source": [
    "### Extra trees"
   ]
  },
  {
   "cell_type": "code",
   "execution_count": 94,
   "metadata": {},
   "outputs": [
    {
     "name": "stdout",
     "output_type": "stream",
     "text": [
      "0.9569077757685353 0.008030864920469418\n"
     ]
    }
   ],
   "source": [
    "result_et_e = cross_val_score(ExtraTreesClassifier(), X_train_E, Y_train_E, cv=kfold, scoring=scoring)\n",
    "print(result_et_e.mean(), result_et_e.std())"
   ]
  },
  {
   "cell_type": "markdown",
   "metadata": {},
   "source": [
    "### Gradient boosting"
   ]
  },
  {
   "cell_type": "code",
   "execution_count": 95,
   "metadata": {},
   "outputs": [
    {
     "name": "stdout",
     "output_type": "stream",
     "text": [
      "1.0 0.0\n"
     ]
    }
   ],
   "source": [
    "result_gb_e = cross_val_score(GradientBoostingClassifier(), X_train_E, Y_train_E, cv=kfold, scoring=scoring)\n",
    "print(result_gb_e.mean(), result_gb_e.std())"
   ]
  },
  {
   "cell_type": "markdown",
   "metadata": {},
   "source": [
    "### Boxplot"
   ]
  },
  {
   "cell_type": "markdown",
   "metadata": {},
   "source": [
    "Gradient Boostin tira de puta madre"
   ]
  },
  {
   "cell_type": "code",
   "execution_count": 96,
   "metadata": {},
   "outputs": [
    {
     "data": {
      "image/png": "[encoded data removed]",
      "text/plain": [
       "<Figure size 1000x700 with 1 Axes>"
      ]
     },
     "metadata": {},
     "output_type": "display_data"
    }
   ],
   "source": [
    "fig = plt.figure(figsize=(10, 7))\n",
    "fig.suptitle('Algorithm Comparison')\n",
    "ax = fig.add_subplot(111)\n",
    "plt.boxplot([result_rf_e, result_et_e, result_gb_e])\n",
    "ax.set_xticklabels(['random forest', 'extra trees', 'gradient boosting'])\n",
    "plt.show()"
   ]
  },
  {
   "cell_type": "markdown",
   "metadata": {},
   "source": [
    "## Validación"
   ]
  },
  {
   "cell_type": "markdown",
   "metadata": {},
   "source": [
    "He decidido usar CART porque da muy buenos resultados y tarda mucho menos en converger que gradient boosting"
   ]
  },
  {
   "cell_type": "code",
   "execution_count": 103,
   "metadata": {},
   "outputs": [
    {
     "name": "stdout",
     "output_type": "stream",
     "text": [
      "0.9873417721518988\n",
      "[[229   0   0   0]\n",
      " [  0 185   0   4]\n",
      " [  0   0 184   0]\n",
      " [  0   6   0 182]]\n",
      "              precision    recall  f1-score   support\n",
      "\n",
      "    INVIERNO       1.00      1.00      1.00       229\n",
      "       OTOÑO       0.97      0.98      0.97       189\n",
      "   PRIMAVERA       1.00      1.00      1.00       184\n",
      "      VERANO       0.98      0.97      0.97       188\n",
      "\n",
      "    accuracy                           0.99       790\n",
      "   macro avg       0.99      0.99      0.99       790\n",
      "weighted avg       0.99      0.99      0.99       790\n",
      "\n"
     ]
    }
   ],
   "source": [
    "model_E = DecisionTreeClassifier(max_depth=18, min_samples_leaf=1, min_samples_split=10)\n",
    "model_E.fit(X_train_E, Y_train_E)\n",
    "predictions_E = model_E.predict(X_validation_E)\n",
    "print(accuracy_score(Y_validation_E, predictions_E))\n",
    "print(confusion_matrix(Y_validation_E, predictions_E))\n",
    "print(classification_report(Y_validation_E, predictions_E))"
   ]
  },
  {
   "cell_type": "markdown",
   "metadata": {},
   "source": [
    "## Guardar modelo y escalado"
   ]
  },
  {
   "cell_type": "markdown",
   "metadata": {},
   "source": [
    "### Modelo"
   ]
  },
  {
   "cell_type": "code",
   "execution_count": 104,
   "metadata": {},
   "outputs": [
    {
     "data": {
      "text/plain": [
       "['Standard_model.sav']"
      ]
     },
     "execution_count": 104,
     "metadata": {},
     "output_type": "execute_result"
    }
   ],
   "source": [
    "filename = 'Standard_model.sav'\n",
    "dump(model_E, filename)"
   ]
  },
  {
   "cell_type": "markdown",
   "metadata": {},
   "source": [
    "### Escalado"
   ]
  },
  {
   "cell_type": "code",
   "execution_count": 117,
   "metadata": {},
   "outputs": [
    {
     "data": {
      "text/plain": [
       "['Normalized_model.sav']"
      ]
     },
     "execution_count": 117,
     "metadata": {},
     "output_type": "execute_result"
    }
   ],
   "source": [
    "filename_scaler = 'Standard_scaler.sav'\n",
    "dump(standard_scaler, filename)"
   ]
  },
  {
   "cell_type": "markdown",
   "metadata": {},
   "source": [
    "# Evaluar algoritmos normalizacion"
   ]
  },
  {
   "cell_type": "markdown",
   "metadata": {},
   "source": [
    "## Separar Dataset"
   ]
  },
  {
   "cell_type": "code",
   "execution_count": 105,
   "metadata": {},
   "outputs": [],
   "source": [
    "validation_size = 0.20\n",
    "seed = 7\n",
    "X_train_N, X_validation_N, Y_train_N, Y_validation_N = train_test_split(X_normalizado, Y, test_size=validation_size, random_state=seed, shuffle=False)"
   ]
  },
  {
   "cell_type": "markdown",
   "metadata": {},
   "source": [
    "## Creación de modelos"
   ]
  },
  {
   "cell_type": "markdown",
   "metadata": {},
   "source": [
    "### Logistic Regression"
   ]
  },
  {
   "cell_type": "code",
   "execution_count": 106,
   "metadata": {},
   "outputs": [
    {
     "name": "stdout",
     "output_type": "stream",
     "text": [
      "0.5865159734779988 0.02583528444182246\n"
     ]
    }
   ],
   "source": [
    "result_lr_n = cross_val_score(LogisticRegression(max_iter=500), X_train_N, Y_train_N, cv=kfold, scoring=scoring)\n",
    "print(result_lr_n.mean(), result_lr_n.std())"
   ]
  },
  {
   "cell_type": "markdown",
   "metadata": {},
   "source": [
    "### Linear DiscriminantAnalysis"
   ]
  },
  {
   "cell_type": "code",
   "execution_count": 107,
   "metadata": {},
   "outputs": [
    {
     "name": "stdout",
     "output_type": "stream",
     "text": [
      "0.8957554751858549 0.013096186034957515\n"
     ]
    }
   ],
   "source": [
    "result_lda_n = cross_val_score(LinearDiscriminantAnalysis(), X_train_N, Y_train_N, cv=kfold, scoring=scoring)\n",
    "print(result_lda_n.mean(), result_lda_n.std())"
   ]
  },
  {
   "cell_type": "markdown",
   "metadata": {},
   "source": [
    "### K-neighbors"
   ]
  },
  {
   "cell_type": "code",
   "execution_count": 108,
   "metadata": {},
   "outputs": [
    {
     "name": "stdout",
     "output_type": "stream",
     "text": [
      "0.6844072734579064 0.015073653150707135\n"
     ]
    }
   ],
   "source": [
    "result_knn_n = cross_val_score(KNeighborsClassifier(), X_train_N, Y_train_N, cv=kfold, scoring=scoring)\n",
    "print(result_knn_n.mean(), result_knn_n.std())"
   ]
  },
  {
   "cell_type": "markdown",
   "metadata": {},
   "source": [
    "### Classification Tree"
   ]
  },
  {
   "cell_type": "code",
   "execution_count": 109,
   "metadata": {},
   "outputs": [
    {
     "name": "stdout",
     "output_type": "stream",
     "text": [
      "0.9860628892907375 0.005864963157326925\n"
     ]
    }
   ],
   "source": [
    "result_cart_n = cross_val_score(DecisionTreeClassifier(), X_train_N, Y_train_N, cv=kfold, scoring=scoring)\n",
    "print(result_cart_n.mean(), result_cart_n.std())"
   ]
  },
  {
   "cell_type": "markdown",
   "metadata": {},
   "source": [
    "### Gaussian naive Bayes"
   ]
  },
  {
   "cell_type": "code",
   "execution_count": 111,
   "metadata": {},
   "outputs": [
    {
     "name": "stdout",
     "output_type": "stream",
     "text": [
      "0.8019680530440023 0.02082199135408723\n"
     ]
    }
   ],
   "source": [
    "result_gnb_n = cross_val_score(GaussianNB(), X_train_N, Y_train_N, cv=kfold, scoring=scoring)\n",
    "print(result_gnb_n.mean(), result_gnb_n.std())"
   ]
  },
  {
   "cell_type": "markdown",
   "metadata": {},
   "source": [
    "### Support vector machines"
   ]
  },
  {
   "cell_type": "code",
   "execution_count": 112,
   "metadata": {},
   "outputs": [
    {
     "name": "stdout",
     "output_type": "stream",
     "text": [
      "0.5947598955193891 0.026632284516884572\n"
     ]
    }
   ],
   "source": [
    "result_svc_n = cross_val_score(SVC(), X_train_N, Y_train_N, cv=kfold, scoring=scoring)\n",
    "print(result_svc_n.mean(), result_svc_n.std())"
   ]
  },
  {
   "cell_type": "markdown",
   "metadata": {},
   "source": [
    "### Boxplot"
   ]
  },
  {
   "cell_type": "markdown",
   "metadata": {},
   "source": [
    "Una vez más el que mejor se comporta es el DecisionTree"
   ]
  },
  {
   "cell_type": "code",
   "execution_count": 113,
   "metadata": {},
   "outputs": [
    {
     "data": {
      "image/png": "[encoded data removed]",
      "text/plain": [
       "<Figure size 1000x700 with 1 Axes>"
      ]
     },
     "metadata": {},
     "output_type": "display_data"
    }
   ],
   "source": [
    "fig = plt.figure(figsize=(10, 7))\n",
    "fig.suptitle('Algorithm Comparison')\n",
    "ax = fig.add_subplot(111)\n",
    "plt.boxplot([result_lr_n, result_lda_n, result_knn_n, result_cart_n, result_gnb_n, result_svc_n])\n",
    "ax.set_xticklabels(['result_lr_n', 'result_lda_n', 'result_knn_n', 'result_cart_n', 'result_gnb_n', 'result_svc_n'])\n",
    "plt.show()"
   ]
  },
  {
   "cell_type": "markdown",
   "metadata": {},
   "source": [
    "## Validación"
   ]
  },
  {
   "cell_type": "code",
   "execution_count": 114,
   "metadata": {},
   "outputs": [
    {
     "name": "stdout",
     "output_type": "stream",
     "text": [
      "0.9886075949367089\n",
      "[[228   0   1   0]\n",
      " [  1 185   0   3]\n",
      " [  1   0 183   0]\n",
      " [  0   3   0 185]]\n",
      "              precision    recall  f1-score   support\n",
      "\n",
      "    INVIERNO       0.99      1.00      0.99       229\n",
      "       OTOÑO       0.98      0.98      0.98       189\n",
      "   PRIMAVERA       0.99      0.99      0.99       184\n",
      "      VERANO       0.98      0.98      0.98       188\n",
      "\n",
      "    accuracy                           0.99       790\n",
      "   macro avg       0.99      0.99      0.99       790\n",
      "weighted avg       0.99      0.99      0.99       790\n",
      "\n"
     ]
    }
   ],
   "source": [
    "model_N = DecisionTreeClassifier(max_depth=18, min_samples_leaf=1, min_samples_split=10)\n",
    "model_N.fit(X_train_N, Y_train_N)\n",
    "predictions_N = model_N.predict(X_validation_N)\n",
    "print(accuracy_score(Y_validation_N, predictions_N))\n",
    "print(confusion_matrix(Y_validation_N, predictions_N))\n",
    "print(classification_report(Y_validation_N, predictions_N))"
   ]
  },
  {
   "cell_type": "markdown",
   "metadata": {},
   "source": [
    "## Guardar modelo y escalado"
   ]
  },
  {
   "cell_type": "markdown",
   "metadata": {},
   "source": [
    "### Modelo"
   ]
  },
  {
   "cell_type": "code",
   "execution_count": 115,
   "metadata": {},
   "outputs": [
    {
     "data": {
      "text/plain": [
       "['Normalized_model.sav']"
      ]
     },
     "execution_count": 115,
     "metadata": {},
     "output_type": "execute_result"
    }
   ],
   "source": [
    "filename = 'Normalized_model.sav'\n",
    "dump(model_N, filename)"
   ]
  },
  {
   "cell_type": "markdown",
   "metadata": {},
   "source": [
    "### Escalado"
   ]
  },
  {
   "cell_type": "code",
   "execution_count": 118,
   "metadata": {},
   "outputs": [
    {
     "data": {
      "text/plain": [
       "['Normalized_model.sav']"
      ]
     },
     "execution_count": 118,
     "metadata": {},
     "output_type": "execute_result"
    }
   ],
   "source": [
    "filename_scaler = 'Normalized_scaler.sav'\n",
    "dump(normalizer_scaler, filename)"
   ]
  }
 ],
 "metadata": {
  "kernelspec": {
   "display_name": "env",
   "language": "python",
   "name": "python3"
  },
  "language_info": {
   "codemirror_mode": {
    "name": "ipython",
    "version": 3
   },
   "file_extension": ".py",
   "mimetype": "text/x-python",
   "name": "python",
   "nbconvert_exporter": "python",
   "pygments_lexer": "ipython3",
   "version": "3.11.8"
  }
 },
 "nbformat": 4,
 "nbformat_minor": 2
}
