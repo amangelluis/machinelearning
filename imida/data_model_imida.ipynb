{
 "cells": [
  {
   "cell_type": "markdown",
   "metadata": {},
   "source": [
    "# Imports"
   ]
  },
  {
   "cell_type": "code",
   "execution_count": 1,
   "metadata": {},
   "outputs": [
    {
     "ename": "ModuleNotFoundError",
     "evalue": "No module named 'numpy'",
     "output_type": "error",
     "traceback": [
      "\u001b[0;31m---------------------------------------------------------------------------\u001b[0m",
      "\u001b[0;31mModuleNotFoundError\u001b[0m                       Traceback (most recent call last)",
      "Cell \u001b[0;32mIn[1], line 1\u001b[0m\n\u001b[0;32m----> 1\u001b[0m \u001b[38;5;28;01mimport\u001b[39;00m \u001b[38;5;21;01mnumpy\u001b[39;00m\n\u001b[1;32m      2\u001b[0m \u001b[38;5;28;01mfrom\u001b[39;00m \u001b[38;5;21;01mnumpy\u001b[39;00m \u001b[38;5;28;01mimport\u001b[39;00m arange\n\u001b[1;32m      3\u001b[0m \u001b[38;5;28;01mimport\u001b[39;00m \u001b[38;5;21;01mmatplotlib\u001b[39;00m\u001b[38;5;21;01m.\u001b[39;00m\u001b[38;5;21;01mpyplot\u001b[39;00m \u001b[38;5;28;01mas\u001b[39;00m \u001b[38;5;21;01mplt\u001b[39;00m\n",
      "\u001b[0;31mModuleNotFoundError\u001b[0m: No module named 'numpy'"
     ]
    }
   ],
   "source": [
    "import numpy\n",
    "from numpy import arange\n",
    "import matplotlib.pyplot as plt\n",
    "import pandas as pd\n",
    "from sklearn.preprocessing import StandardScaler\n",
    "from sklearn.preprocessing import Normalizer\n",
    "from sklearn.model_selection import train_test_split\n",
    "from sklearn.model_selection import KFold\n",
    "from sklearn.model_selection import cross_val_score\n",
    "from sklearn.model_selection import GridSearchCV\n",
    "from sklearn.metrics import classification_report\n",
    "from sklearn.metrics import confusion_matrix\n",
    "from sklearn.metrics import accuracy_score\n",
    "from sklearn.pipeline import Pipeline\n",
    "from sklearn.linear_model import LogisticRegression\n",
    "from sklearn.tree import DecisionTreeClassifier\n",
    "from sklearn.neighbors import KNeighborsClassifier\n",
    "from sklearn.discriminant_analysis import LinearDiscriminantAnalysis\n",
    "from sklearn.naive_bayes import GaussianNB\n",
    "from sklearn.svm import SVC\n",
    "from sklearn.ensemble import AdaBoostClassifier\n",
    "from sklearn.ensemble import GradientBoostingClassifier\n",
    "from sklearn.ensemble import RandomForestClassifier\n",
    "from sklearn.ensemble import ExtraTreesClassifier"
   ]
  },
  {
   "cell_type": "markdown",
   "metadata": {},
   "source": [
    "# Descargar Dataset"
   ]
  },
  {
   "cell_type": "code",
   "execution_count": 2,
   "metadata": {},
   "outputs": [
    {
     "data": {
      "text/html": [
       "<div>\n",
       "<style scoped>\n",
       "    .dataframe tbody tr th:only-of-type {\n",
       "        vertical-align: middle;\n",
       "    }\n",
       "\n",
       "    .dataframe tbody tr th {\n",
       "        vertical-align: top;\n",
       "    }\n",
       "\n",
       "    .dataframe thead th {\n",
       "        text-align: right;\n",
       "    }\n",
       "</style>\n",
       "<table border=\"1\" class=\"dataframe\">\n",
       "  <thead>\n",
       "    <tr style=\"text-align: right;\">\n",
       "      <th></th>\n",
       "      <th>FECHA</th>\n",
       "      <th>CODEST</th>\n",
       "      <th>VVMED</th>\n",
       "      <th>VVMAX</th>\n",
       "      <th>RVIENTO</th>\n",
       "      <th>DVMED</th>\n",
       "      <th>TMIN</th>\n",
       "      <th>TMAX</th>\n",
       "      <th>TMED</th>\n",
       "      <th>TMINABS</th>\n",
       "      <th>...</th>\n",
       "      <th>HSOL</th>\n",
       "      <th>PREC</th>\n",
       "      <th>HORAS0</th>\n",
       "      <th>HORAS7</th>\n",
       "      <th>DEWPT</th>\n",
       "      <th>DPV</th>\n",
       "      <th>ETO_PM_FAO</th>\n",
       "      <th>FECHA_2</th>\n",
       "      <th>AÑO</th>\n",
       "      <th>ESTACION</th>\n",
       "    </tr>\n",
       "  </thead>\n",
       "  <tbody>\n",
       "    <tr>\n",
       "      <th>0</th>\n",
       "      <td>23/04/2010</td>\n",
       "      <td>AL41</td>\n",
       "      <td>1.51</td>\n",
       "      <td>8.23</td>\n",
       "      <td>130.06</td>\n",
       "      <td>145.15</td>\n",
       "      <td>9.74</td>\n",
       "      <td>21.44</td>\n",
       "      <td>16.07</td>\n",
       "      <td>9.250</td>\n",
       "      <td>...</td>\n",
       "      <td>11.0</td>\n",
       "      <td>0.1</td>\n",
       "      <td>0.0</td>\n",
       "      <td>0.0</td>\n",
       "      <td>12.41</td>\n",
       "      <td>0.51</td>\n",
       "      <td>3.010548</td>\n",
       "      <td>2010-04-23</td>\n",
       "      <td>2010.0</td>\n",
       "      <td>PRIMAVERA</td>\n",
       "    </tr>\n",
       "    <tr>\n",
       "      <th>1</th>\n",
       "      <td>24/04/2010</td>\n",
       "      <td>AL41</td>\n",
       "      <td>1.64</td>\n",
       "      <td>8.13</td>\n",
       "      <td>141.92</td>\n",
       "      <td>176.62</td>\n",
       "      <td>10.79</td>\n",
       "      <td>25.06</td>\n",
       "      <td>17.78</td>\n",
       "      <td>10.330</td>\n",
       "      <td>...</td>\n",
       "      <td>12.0</td>\n",
       "      <td>0.0</td>\n",
       "      <td>0.0</td>\n",
       "      <td>0.0</td>\n",
       "      <td>11.81</td>\n",
       "      <td>0.74</td>\n",
       "      <td>4.496808</td>\n",
       "      <td>2010-04-24</td>\n",
       "      <td>2010.0</td>\n",
       "      <td>PRIMAVERA</td>\n",
       "    </tr>\n",
       "    <tr>\n",
       "      <th>2</th>\n",
       "      <td>25/04/2010</td>\n",
       "      <td>AL41</td>\n",
       "      <td>1.54</td>\n",
       "      <td>8.43</td>\n",
       "      <td>132.96</td>\n",
       "      <td>94.79</td>\n",
       "      <td>11.79</td>\n",
       "      <td>24.97</td>\n",
       "      <td>17.31</td>\n",
       "      <td>11.330</td>\n",
       "      <td>...</td>\n",
       "      <td>10.0</td>\n",
       "      <td>0.0</td>\n",
       "      <td>0.0</td>\n",
       "      <td>0.0</td>\n",
       "      <td>12.08</td>\n",
       "      <td>0.64</td>\n",
       "      <td>3.886669</td>\n",
       "      <td>2010-04-25</td>\n",
       "      <td>2010.0</td>\n",
       "      <td>PRIMAVERA</td>\n",
       "    </tr>\n",
       "    <tr>\n",
       "      <th>3</th>\n",
       "      <td>26/04/2010</td>\n",
       "      <td>AL41</td>\n",
       "      <td>1.75</td>\n",
       "      <td>9.11</td>\n",
       "      <td>151.19</td>\n",
       "      <td>130.98</td>\n",
       "      <td>8.98</td>\n",
       "      <td>25.68</td>\n",
       "      <td>17.27</td>\n",
       "      <td>8.420</td>\n",
       "      <td>...</td>\n",
       "      <td>12.0</td>\n",
       "      <td>0.0</td>\n",
       "      <td>0.0</td>\n",
       "      <td>0.0</td>\n",
       "      <td>8.83</td>\n",
       "      <td>0.96</td>\n",
       "      <td>5.082196</td>\n",
       "      <td>2010-04-26</td>\n",
       "      <td>2010.0</td>\n",
       "      <td>PRIMAVERA</td>\n",
       "    </tr>\n",
       "    <tr>\n",
       "      <th>4</th>\n",
       "      <td>27/04/2010</td>\n",
       "      <td>AL41</td>\n",
       "      <td>1.92</td>\n",
       "      <td>10.19</td>\n",
       "      <td>165.98</td>\n",
       "      <td>174.00</td>\n",
       "      <td>8.59</td>\n",
       "      <td>28.48</td>\n",
       "      <td>18.05</td>\n",
       "      <td>7.913</td>\n",
       "      <td>...</td>\n",
       "      <td>12.0</td>\n",
       "      <td>0.0</td>\n",
       "      <td>0.0</td>\n",
       "      <td>0.0</td>\n",
       "      <td>8.47</td>\n",
       "      <td>1.14</td>\n",
       "      <td>5.563509</td>\n",
       "      <td>2010-04-27</td>\n",
       "      <td>2010.0</td>\n",
       "      <td>PRIMAVERA</td>\n",
       "    </tr>\n",
       "  </tbody>\n",
       "</table>\n",
       "<p>5 rows × 28 columns</p>\n",
       "</div>"
      ],
      "text/plain": [
       "        FECHA CODEST  VVMED  VVMAX  RVIENTO   DVMED   TMIN   TMAX   TMED  \\\n",
       "0  23/04/2010   AL41   1.51   8.23   130.06  145.15   9.74  21.44  16.07   \n",
       "1  24/04/2010   AL41   1.64   8.13   141.92  176.62  10.79  25.06  17.78   \n",
       "2  25/04/2010   AL41   1.54   8.43   132.96   94.79  11.79  24.97  17.31   \n",
       "3  26/04/2010   AL41   1.75   9.11   151.19  130.98   8.98  25.68  17.27   \n",
       "4  27/04/2010   AL41   1.92  10.19   165.98  174.00   8.59  28.48  18.05   \n",
       "\n",
       "   TMINABS  ...  HSOL  PREC  HORAS0  HORAS7  DEWPT   DPV  ETO_PM_FAO  \\\n",
       "0    9.250  ...  11.0   0.1     0.0     0.0  12.41  0.51    3.010548   \n",
       "1   10.330  ...  12.0   0.0     0.0     0.0  11.81  0.74    4.496808   \n",
       "2   11.330  ...  10.0   0.0     0.0     0.0  12.08  0.64    3.886669   \n",
       "3    8.420  ...  12.0   0.0     0.0     0.0   8.83  0.96    5.082196   \n",
       "4    7.913  ...  12.0   0.0     0.0     0.0   8.47  1.14    5.563509   \n",
       "\n",
       "      FECHA_2     AÑO   ESTACION  \n",
       "0  2010-04-23  2010.0  PRIMAVERA  \n",
       "1  2010-04-24  2010.0  PRIMAVERA  \n",
       "2  2010-04-25  2010.0  PRIMAVERA  \n",
       "3  2010-04-26  2010.0  PRIMAVERA  \n",
       "4  2010-04-27  2010.0  PRIMAVERA  \n",
       "\n",
       "[5 rows x 28 columns]"
      ]
     },
     "execution_count": 2,
     "metadata": {},
     "output_type": "execute_result"
    }
   ],
   "source": [
    "dataset = pd.read_csv('/home/user/machinelearning/imida/data/AL41_valores_imputados.csv')\n",
    "dataset.head()"
   ]
  },
  {
   "cell_type": "markdown",
   "metadata": {},
   "source": [
    "# Crear columnas con las fechas"
   ]
  },
  {
   "cell_type": "code",
   "execution_count": 3,
   "metadata": {},
   "outputs": [
    {
     "name": "stdout",
     "output_type": "stream",
     "text": [
      "FECHA         datetime64[ns]\n",
      "CODEST                object\n",
      "VVMED                float64\n",
      "VVMAX                float64\n",
      "RVIENTO              float64\n",
      "DVMED                float64\n",
      "TMIN                 float64\n",
      "TMAX                 float64\n",
      "TMED                 float64\n",
      "TMINABS              float64\n",
      "TMAXABS              float64\n",
      "HRMIN                float64\n",
      "HRMAX                float64\n",
      "HRMED                float64\n",
      "HRMINABS             float64\n",
      "HRMAXABS             float64\n",
      "RADMED               float64\n",
      "RADMAX               float64\n",
      "HSOL                 float64\n",
      "PREC                 float64\n",
      "HORAS0               float64\n",
      "HORAS7               float64\n",
      "DEWPT                float64\n",
      "DPV                  float64\n",
      "ETO_PM_FAO           float64\n",
      "FECHA_2               object\n",
      "AÑO                    int32\n",
      "ESTACION              object\n",
      "DIA                    int32\n",
      "MES                    int32\n",
      "dtype: object\n"
     ]
    }
   ],
   "source": [
    "\n",
    "# convert the date column into a datetime object\n",
    "dataset['FECHA'] = pd.to_datetime(dataset['FECHA'], format=\"%d/%m/%Y\")\n",
    "\n",
    "# extract the day, month, and year components\n",
    "dataset['DIA'] = dataset['FECHA'].dt.day\n",
    "dataset['MES'] = dataset['FECHA'].dt.month\n",
    "dataset['AÑO'] = dataset['FECHA'].dt.year\n",
    "\n",
    "# show the modified data frame\n",
    "print(dataset.dtypes)\n"
   ]
  },
  {
   "cell_type": "markdown",
   "metadata": {},
   "source": [
    "# Transformar dataset"
   ]
  },
  {
   "cell_type": "markdown",
   "metadata": {},
   "source": [
    "## Separar el target"
   ]
  },
  {
   "cell_type": "code",
   "execution_count": 4,
   "metadata": {},
   "outputs": [],
   "source": [
    "dataset_reducido = dataset.select_dtypes(include=['float64', 'int64', 'int32'])\n",
    "dataset_reducido['ESTACION'] = dataset['ESTACION']\n",
    "array = dataset_reducido.values\n",
    "X = array[:,0:-1]\n",
    "Y = array[:,-1]"
   ]
  },
  {
   "cell_type": "markdown",
   "metadata": {},
   "source": [
    "## Estandarizar"
   ]
  },
  {
   "cell_type": "code",
   "execution_count": 5,
   "metadata": {},
   "outputs": [
    {
     "name": "stdout",
     "output_type": "stream",
     "text": [
      "[[-0.78218139 -0.36518946 -0.78794258 ... -1.66239415  0.82398889\n",
      "  -0.75046034]\n",
      " [-0.62288653 -0.40440915 -0.61971062 ... -1.66239415  0.93742643\n",
      "  -0.75046034]\n",
      " [-0.74542103 -0.28675007 -0.7468066  ... -1.66239415  1.05086396\n",
      "  -0.75046034]\n",
      " ...\n",
      " [ 0.79851376  0.17212037  0.79820387 ...  1.85184539 -0.99101172\n",
      "  -1.33082614]\n",
      " [ 2.07287264  1.32517941  2.07753269 ...  1.85184539 -0.87757418\n",
      "  -1.33082614]\n",
      " [ 1.10485003 -0.18085689  1.10870956 ...  1.85184539 -0.76413664\n",
      "  -1.33082614]]\n"
     ]
    }
   ],
   "source": [
    "scaler = StandardScaler().fit(X)\n",
    "X_estandarizado = scaler.transform(X)\n",
    "print(X_estandarizado)"
   ]
  },
  {
   "cell_type": "markdown",
   "metadata": {},
   "source": [
    "### Guardar dataset"
   ]
  },
  {
   "cell_type": "code",
   "execution_count": 6,
   "metadata": {},
   "outputs": [],
   "source": [
    "dataset_estandarizado = pd.DataFrame(X_estandarizado, columns=dataset_reducido.drop('ESTACION', axis=1).columns)\n",
    "dataset_estandarizado['ESTACION'] = dataset_reducido['ESTACION']\n",
    "dataset_estandarizado.to_csv('/home/user/machinelearning/imida/data/AL41_estandarizado.csv')"
   ]
  },
  {
   "cell_type": "markdown",
   "metadata": {},
   "source": [
    "## Normalizar"
   ]
  },
  {
   "cell_type": "code",
   "execution_count": 7,
   "metadata": {},
   "outputs": [
    {
     "name": "stdout",
     "output_type": "stream",
     "text": [
      "[[6.24578710e-04 3.40416078e-03 5.37964947e-02 ... 8.31392852e-01\n",
      "  9.51345055e-03 1.65451314e-03]\n",
      " [6.86312661e-04 3.40226947e-03 5.93911542e-02 ... 8.41151493e-01\n",
      "  1.00435999e-02 1.67393332e-03]\n",
      " [6.79451828e-04 3.71933695e-03 5.86622825e-02 ... 8.86816996e-01\n",
      "  1.10300621e-02 1.76480994e-03]\n",
      " ...\n",
      " [1.23911045e-03 4.24837870e-03 1.07041442e-01 ... 8.94372224e-01\n",
      "  3.09777613e-03 8.85078896e-04]\n",
      " [1.71744057e-03 5.60851686e-03 1.48518357e-01 ... 9.03892550e-01\n",
      "  3.57800119e-03 8.94500297e-04]\n",
      " [1.45920146e-03 4.16231236e-03 1.26194613e-01 ... 9.66900376e-01\n",
      "  4.30584037e-03 9.56853415e-04]]\n"
     ]
    }
   ],
   "source": [
    "scaler = Normalizer().fit(X)\n",
    "X_normalizado = scaler.transform(X)\n",
    "print(X_normalizado)"
   ]
  },
  {
   "cell_type": "markdown",
   "metadata": {},
   "source": [
    "### Guardar dataset"
   ]
  },
  {
   "cell_type": "code",
   "execution_count": 8,
   "metadata": {},
   "outputs": [],
   "source": [
    "dataset_normalizado = pd.DataFrame(X_normalizado, columns=dataset_reducido.drop('ESTACION', axis=1).columns)\n",
    "dataset_normalizado['ESTACION'] = dataset_reducido['ESTACION']\n",
    "dataset_normalizado.to_csv('/home/user/machinelearning/imida/data/AL41_normalizado.csv')"
   ]
  },
  {
   "cell_type": "markdown",
   "metadata": {},
   "source": [
    "# Evaluar algoritmos Estandarización"
   ]
  },
  {
   "cell_type": "markdown",
   "metadata": {},
   "source": [
    "## Separar Entrenamiento-Prueba"
   ]
  },
  {
   "cell_type": "code",
   "execution_count": 9,
   "metadata": {},
   "outputs": [],
   "source": [
    "validation_size = 0.20\n",
    "seed = 7\n",
    "X_train_E, X_validation_E, Y_train_E, Y_validation_E = train_test_split(X_estandarizado, Y, test_size=validation_size, random_state=seed, shuffle=False)"
   ]
  },
  {
   "cell_type": "markdown",
   "metadata": {},
   "source": [
    "## Establecimiento de valores para el entrenamiento"
   ]
  },
  {
   "cell_type": "code",
   "execution_count": 10,
   "metadata": {},
   "outputs": [],
   "source": [
    "num_folds = 10\n",
    "seed = 7\n",
    "scoring = 'accuracy'\n",
    "kfold = KFold(n_splits=num_folds, random_state=seed, shuffle=True)"
   ]
  },
  {
   "cell_type": "markdown",
   "metadata": {},
   "source": [
    "## Creación de modelos"
   ]
  },
  {
   "cell_type": "markdown",
   "metadata": {},
   "source": [
    "### Logistic Regression"
   ]
  },
  {
   "cell_type": "code",
   "execution_count": 11,
   "metadata": {},
   "outputs": [
    {
     "name": "stdout",
     "output_type": "stream",
     "text": [
      "0.8973417721518988 0.01700948350785403\n"
     ]
    }
   ],
   "source": [
    "result_lr_e = cross_val_score(LogisticRegression(max_iter=500), X_train_E, Y_train_E, cv=kfold, scoring=scoring)\n",
    "print(result_lr_e.mean(), result_lr_e.std())"
   ]
  },
  {
   "cell_type": "markdown",
   "metadata": {},
   "source": [
    "### Linear discriminant analysis"
   ]
  },
  {
   "cell_type": "code",
   "execution_count": 12,
   "metadata": {},
   "outputs": [
    {
     "name": "stdout",
     "output_type": "stream",
     "text": [
      "0.8992425155716296 0.017046838009696308\n"
     ]
    }
   ],
   "source": [
    "result_lda_e = cross_val_score(LinearDiscriminantAnalysis(), X_train_E, Y_train_E, cv=kfold, scoring=scoring)\n",
    "print(result_lda_e.mean(), result_lda_e.std())"
   ]
  },
  {
   "cell_type": "markdown",
   "metadata": {},
   "source": [
    "### k-nearest neighbors"
   ]
  },
  {
   "cell_type": "code",
   "execution_count": 13,
   "metadata": {},
   "outputs": [
    {
     "name": "stdout",
     "output_type": "stream",
     "text": [
      "0.8973277074542898 0.022174308904726228\n"
     ]
    },
    {
     "name": "stderr",
     "output_type": "stream",
     "text": [
      "/home/user/machinelearning/env/lib/python3.11/site-packages/joblib/externals/loky/backend/context.py:136: UserWarning: Could not find the number of physical cores for the following reason:\n",
      "[Errno 2] No such file or directory: 'lscpu'\n",
      "Returning the number of logical cores instead. You can silence this warning by setting LOKY_MAX_CPU_COUNT to the number of cores you want to use.\n",
      "  warnings.warn(\n",
      "  File \"/home/user/machinelearning/env/lib/python3.11/site-packages/joblib/externals/loky/backend/context.py\", line 250, in _count_physical_cores\n",
      "    cpu_info = subprocess.run(\n",
      "               ^^^^^^^^^^^^^^^\n",
      "  File \"/nix/store/ffy6s77zhixlwvzprz5j0zj4ma8n8h2q-python3-3.11.8/lib/python3.11/subprocess.py\", line 548, in run\n",
      "    with Popen(*popenargs, **kwargs) as process:\n",
      "         ^^^^^^^^^^^^^^^^^^^^^^^^^^^\n",
      "  File \"/nix/store/ffy6s77zhixlwvzprz5j0zj4ma8n8h2q-python3-3.11.8/lib/python3.11/subprocess.py\", line 1026, in __init__\n",
      "    self._execute_child(args, executable, preexec_fn, close_fds,\n",
      "  File \"/nix/store/ffy6s77zhixlwvzprz5j0zj4ma8n8h2q-python3-3.11.8/lib/python3.11/subprocess.py\", line 1953, in _execute_child\n",
      "    raise child_exception_type(errno_num, err_msg, err_filename)\n"
     ]
    }
   ],
   "source": [
    "result_knn_e = cross_val_score(KNeighborsClassifier(), X_train_E, Y_train_E, cv=kfold, scoring=scoring)\n",
    "print(result_knn_e.mean(), result_knn_e.std())"
   ]
  },
  {
   "cell_type": "markdown",
   "metadata": {},
   "source": [
    "### Classification tree"
   ]
  },
  {
   "cell_type": "code",
   "execution_count": 14,
   "metadata": {},
   "outputs": [
    {
     "name": "stdout",
     "output_type": "stream",
     "text": [
      "0.9898623668876834 0.005626479003716355\n"
     ]
    }
   ],
   "source": [
    "result_cart_e = cross_val_score(DecisionTreeClassifier(), X_train_E, Y_train_E, cv=kfold, scoring=scoring)\n",
    "print(result_cart_e.mean(), result_cart_e.std())"
   ]
  },
  {
   "cell_type": "markdown",
   "metadata": {},
   "source": [
    "### Gaussian naive Bayes"
   ]
  },
  {
   "cell_type": "code",
   "execution_count": 15,
   "metadata": {},
   "outputs": [
    {
     "name": "stdout",
     "output_type": "stream",
     "text": [
      "0.7515561583283101 0.022807583206097173\n"
     ]
    }
   ],
   "source": [
    "result_gnb_e = cross_val_score(GaussianNB(), X_train_E, Y_train_E, cv=kfold, scoring=scoring)\n",
    "print(result_gnb_e.mean(), result_gnb_e.std())"
   ]
  },
  {
   "cell_type": "markdown",
   "metadata": {},
   "source": [
    "### Support vector machine"
   ]
  },
  {
   "cell_type": "code",
   "execution_count": 16,
   "metadata": {},
   "outputs": [
    {
     "name": "stdout",
     "output_type": "stream",
     "text": [
      "0.9226883664858349 0.02012282520393338\n"
     ]
    }
   ],
   "source": [
    "result_svc_e = cross_val_score(SVC(), X_train_E, Y_train_E, cv=kfold, scoring=scoring)\n",
    "print(result_svc_e.mean(), result_svc_e.std())"
   ]
  },
  {
   "cell_type": "markdown",
   "metadata": {},
   "source": [
    "### Boxplot"
   ]
  },
  {
   "cell_type": "markdown",
   "metadata": {},
   "source": [
    "Vemos que el que mejor funciona es el DecisionTreeClassifier (CART)"
   ]
  },
  {
   "cell_type": "code",
   "execution_count": 17,
   "metadata": {},
   "outputs": [
    {
     "data": {
      "image/png": "[encoded data removed]",
      "text/plain": [
       "<Figure size 1000x700 with 1 Axes>"
      ]
     },
     "metadata": {},
     "output_type": "display_data"
    }
   ],
   "source": [
    "fig = plt.figure(figsize=(10, 7))\n",
    "fig.suptitle('Algorithm Comparison')\n",
    "ax = fig.add_subplot(111)\n",
    "plt.boxplot([result_lr_e, result_lda_e, result_knn_e, result_cart_e, result_gnb_e, result_svc_e])\n",
    "ax.set_xticklabels(['result_lr_e', 'result_lda_e', 'result_knn_e', 'result_cart_e', 'result_gnb_e', 'result_svc_e'])\n",
    "plt.show()"
   ]
  },
  {
   "cell_type": "markdown",
   "metadata": {},
   "source": [
    "## Tunear Decision tree classifier"
   ]
  },
  {
   "cell_type": "markdown",
   "metadata": {},
   "source": [
    "La mejor combinación es un ***max_depth*** de 11, un ***min_samples_leaf*** de 2 y un ***min_samples_split*** de 9. Lo voy comentar porque sino cada vez que haga un ***run all*** se tarda demasiado aquí"
   ]
  },
  {
   "cell_type": "code",
   "execution_count": 18,
   "metadata": {},
   "outputs": [
    {
     "data": {
      "text/plain": [
       "'\\nparam_grid = dict(max_depth=range(9, 20), min_samples_split=range(9,20), min_samples_leaf=range(1,3))\\ngrid = GridSearchCV(estimator=DecisionTreeClassifier(), param_grid=param_grid, scoring=scoring, cv=kfold)\\ngrid_result = grid.fit(X_train_E, Y_train_E)\\nprint(\"Best: %f using %s\" % (grid_result.best_score_, grid_result.best_params_))\\nmeans = grid_result.cv_results_[\\'mean_test_score\\']\\nstds = grid_result.cv_results_[\\'std_test_score\\']\\nparams = grid_result.cv_results_[\\'params\\']\\nfor mean, stdev, param in zip(means, stds, params):\\n    print(\"%f (%f) with: %r\" % (mean, stdev, param))\\n'"
      ]
     },
     "execution_count": 18,
     "metadata": {},
     "output_type": "execute_result"
    }
   ],
   "source": [
    "'''\n",
    "param_grid = dict(max_depth=range(9, 20), min_samples_split=range(9,20), min_samples_leaf=range(1,3))\n",
    "grid = GridSearchCV(estimator=DecisionTreeClassifier(), param_grid=param_grid, scoring=scoring, cv=kfold)\n",
    "grid_result = grid.fit(X_train_E, Y_train_E)\n",
    "print(\"Best: %f using %s\" % (grid_result.best_score_, grid_result.best_params_))\n",
    "means = grid_result.cv_results_['mean_test_score']\n",
    "stds = grid_result.cv_results_['std_test_score']\n",
    "params = grid_result.cv_results_['params']\n",
    "for mean, stdev, param in zip(means, stds, params):\n",
    "    print(\"%f (%f) with: %r\" % (mean, stdev, param))\n",
    "'''"
   ]
  },
  {
   "cell_type": "markdown",
   "metadata": {},
   "source": [
    "## Ensemble methods"
   ]
  },
  {
   "cell_type": "markdown",
   "metadata": {},
   "source": [
    "### Random forest"
   ]
  },
  {
   "cell_type": "code",
   "execution_count": 19,
   "metadata": {},
   "outputs": [
    {
     "name": "stdout",
     "output_type": "stream",
     "text": [
      "0.969258589511754 0.009851220980114676\n"
     ]
    }
   ],
   "source": [
    "result_rf_e = cross_val_score(RandomForestClassifier(), X_train_E, Y_train_E, cv=kfold, scoring=scoring)\n",
    "print(result_rf_e.mean(), result_rf_e.std())"
   ]
  },
  {
   "cell_type": "markdown",
   "metadata": {},
   "source": [
    "### Extra trees"
   ]
  },
  {
   "cell_type": "code",
   "execution_count": 20,
   "metadata": {},
   "outputs": [
    {
     "name": "stdout",
     "output_type": "stream",
     "text": [
      "0.9588024914607193 0.011804101247053337\n"
     ]
    }
   ],
   "source": [
    "result_et_e = cross_val_score(ExtraTreesClassifier(), X_train_E, Y_train_E, cv=kfold, scoring=scoring)\n",
    "print(result_et_e.mean(), result_et_e.std())"
   ]
  },
  {
   "cell_type": "markdown",
   "metadata": {},
   "source": [
    "### Gradient boosting"
   ]
  },
  {
   "cell_type": "code",
   "execution_count": 21,
   "metadata": {},
   "outputs": [
    {
     "name": "stdout",
     "output_type": "stream",
     "text": [
      "1.0 0.0\n"
     ]
    }
   ],
   "source": [
    "result_gb_e = cross_val_score(GradientBoostingClassifier(), X_train_E, Y_train_E, cv=kfold, scoring=scoring)\n",
    "print(result_gb_e.mean(), result_gb_e.std())"
   ]
  },
  {
   "cell_type": "markdown",
   "metadata": {},
   "source": [
    "### Boxplot"
   ]
  },
  {
   "cell_type": "markdown",
   "metadata": {},
   "source": [
    "Gradient Boostin tira de puta madre"
   ]
  },
  {
   "cell_type": "code",
   "execution_count": 22,
   "metadata": {},
   "outputs": [
    {
     "data": {
      "image/png": "[encoded data removed]",
      "text/plain": [
       "<Figure size 1000x700 with 1 Axes>"
      ]
     },
     "metadata": {},
     "output_type": "display_data"
    }
   ],
   "source": [
    "fig = plt.figure(figsize=(10, 7))\n",
    "fig.suptitle('Algorithm Comparison')\n",
    "ax = fig.add_subplot(111)\n",
    "plt.boxplot([result_rf_e, result_et_e, result_gb_e])\n",
    "ax.set_xticklabels(['random forest', 'extra trees', 'gradient boosting'])\n",
    "plt.show()"
   ]
  }
 ],
 "metadata": {
  "kernelspec": {
   "display_name": "env",
   "language": "python",
   "name": "python3"
  },
  "language_info": {
   "codemirror_mode": {
    "name": "ipython",
    "version": 3
   },
   "file_extension": ".py",
   "mimetype": "text/x-python",
   "name": "python",
   "nbconvert_exporter": "python",
   "pygments_lexer": "ipython3",
   "version": "3.11.8"
  }
 },
 "nbformat": 4,
 "nbformat_minor": 2
}
