{
 "cells": [
  {
   "cell_type": "markdown",
   "metadata": {},
   "source": [
    "# Imports"
   ]
  },
  {
   "cell_type": "code",
   "execution_count": 1,
   "metadata": {},
   "outputs": [],
   "source": [
    "import numpy\n",
    "from numpy import arange\n",
    "import matplotlib.pyplot as plt\n",
    "import pandas as pd\n",
    "from sklearn.preprocessing import StandardScaler\n",
    "from sklearn.preprocessing import Normalizer\n",
    "from sklearn.model_selection import train_test_split\n",
    "from sklearn.model_selection import KFold\n",
    "from sklearn.model_selection import cross_val_score\n",
    "from sklearn.model_selection import GridSearchCV\n",
    "from sklearn.metrics import classification_report\n",
    "from sklearn.metrics import confusion_matrix\n",
    "from sklearn.metrics import accuracy_score\n",
    "from sklearn.pipeline import Pipeline\n",
    "from sklearn.linear_model import LogisticRegression\n",
    "from sklearn.tree import DecisionTreeClassifier\n",
    "from sklearn.neighbors import KNeighborsClassifier\n",
    "from sklearn.discriminant_analysis import LinearDiscriminantAnalysis\n",
    "from sklearn.naive_bayes import GaussianNB\n",
    "from sklearn.svm import SVC\n",
    "from sklearn.ensemble import AdaBoostClassifier\n",
    "from sklearn.ensemble import GradientBoostingClassifier\n",
    "from sklearn.ensemble import RandomForestClassifier\n",
    "from sklearn.ensemble import ExtraTreesClassifier\n",
    "from joblib import dump\n",
    "from joblib import load\n",
    "import pickle"
   ]
  },
  {
   "cell_type": "markdown",
   "metadata": {},
   "source": [
    "# Crear modelo"
   ]
  },
  {
   "cell_type": "markdown",
   "metadata": {},
   "source": [
    "## Descargar dataset"
   ]
  },
  {
   "cell_type": "code",
   "execution_count": 2,
   "metadata": {},
   "outputs": [
    {
     "data": {
      "text/html": [
       "<div>\n",
       "<style scoped>\n",
       "    .dataframe tbody tr th:only-of-type {\n",
       "        vertical-align: middle;\n",
       "    }\n",
       "\n",
       "    .dataframe tbody tr th {\n",
       "        vertical-align: top;\n",
       "    }\n",
       "\n",
       "    .dataframe thead th {\n",
       "        text-align: right;\n",
       "    }\n",
       "</style>\n",
       "<table border=\"1\" class=\"dataframe\">\n",
       "  <thead>\n",
       "    <tr style=\"text-align: right;\">\n",
       "      <th></th>\n",
       "      <th>FECHA</th>\n",
       "      <th>CODEST</th>\n",
       "      <th>VVMED</th>\n",
       "      <th>VVMAX</th>\n",
       "      <th>RVIENTO</th>\n",
       "      <th>DVMED</th>\n",
       "      <th>TMIN</th>\n",
       "      <th>TMAX</th>\n",
       "      <th>TMED</th>\n",
       "      <th>TMINABS</th>\n",
       "      <th>...</th>\n",
       "      <th>HSOL</th>\n",
       "      <th>PREC</th>\n",
       "      <th>HORAS0</th>\n",
       "      <th>HORAS7</th>\n",
       "      <th>DEWPT</th>\n",
       "      <th>DPV</th>\n",
       "      <th>ETO_PM_FAO</th>\n",
       "      <th>FECHA_2</th>\n",
       "      <th>AÑO</th>\n",
       "      <th>ESTACION</th>\n",
       "    </tr>\n",
       "  </thead>\n",
       "  <tbody>\n",
       "    <tr>\n",
       "      <th>0</th>\n",
       "      <td>23/04/2010</td>\n",
       "      <td>AL41</td>\n",
       "      <td>1.51</td>\n",
       "      <td>8.23</td>\n",
       "      <td>130.06</td>\n",
       "      <td>145.15</td>\n",
       "      <td>9.74</td>\n",
       "      <td>21.44</td>\n",
       "      <td>16.07</td>\n",
       "      <td>9.250</td>\n",
       "      <td>...</td>\n",
       "      <td>11.0</td>\n",
       "      <td>0.1</td>\n",
       "      <td>0.0</td>\n",
       "      <td>0.0</td>\n",
       "      <td>12.41</td>\n",
       "      <td>0.51</td>\n",
       "      <td>3.010548</td>\n",
       "      <td>2010-04-23</td>\n",
       "      <td>2010.0</td>\n",
       "      <td>PRIMAVERA</td>\n",
       "    </tr>\n",
       "    <tr>\n",
       "      <th>1</th>\n",
       "      <td>24/04/2010</td>\n",
       "      <td>AL41</td>\n",
       "      <td>1.64</td>\n",
       "      <td>8.13</td>\n",
       "      <td>141.92</td>\n",
       "      <td>176.62</td>\n",
       "      <td>10.79</td>\n",
       "      <td>25.06</td>\n",
       "      <td>17.78</td>\n",
       "      <td>10.330</td>\n",
       "      <td>...</td>\n",
       "      <td>12.0</td>\n",
       "      <td>0.0</td>\n",
       "      <td>0.0</td>\n",
       "      <td>0.0</td>\n",
       "      <td>11.81</td>\n",
       "      <td>0.74</td>\n",
       "      <td>4.496808</td>\n",
       "      <td>2010-04-24</td>\n",
       "      <td>2010.0</td>\n",
       "      <td>PRIMAVERA</td>\n",
       "    </tr>\n",
       "    <tr>\n",
       "      <th>2</th>\n",
       "      <td>25/04/2010</td>\n",
       "      <td>AL41</td>\n",
       "      <td>1.54</td>\n",
       "      <td>8.43</td>\n",
       "      <td>132.96</td>\n",
       "      <td>94.79</td>\n",
       "      <td>11.79</td>\n",
       "      <td>24.97</td>\n",
       "      <td>17.31</td>\n",
       "      <td>11.330</td>\n",
       "      <td>...</td>\n",
       "      <td>10.0</td>\n",
       "      <td>0.0</td>\n",
       "      <td>0.0</td>\n",
       "      <td>0.0</td>\n",
       "      <td>12.08</td>\n",
       "      <td>0.64</td>\n",
       "      <td>3.886669</td>\n",
       "      <td>2010-04-25</td>\n",
       "      <td>2010.0</td>\n",
       "      <td>PRIMAVERA</td>\n",
       "    </tr>\n",
       "    <tr>\n",
       "      <th>3</th>\n",
       "      <td>26/04/2010</td>\n",
       "      <td>AL41</td>\n",
       "      <td>1.75</td>\n",
       "      <td>9.11</td>\n",
       "      <td>151.19</td>\n",
       "      <td>130.98</td>\n",
       "      <td>8.98</td>\n",
       "      <td>25.68</td>\n",
       "      <td>17.27</td>\n",
       "      <td>8.420</td>\n",
       "      <td>...</td>\n",
       "      <td>12.0</td>\n",
       "      <td>0.0</td>\n",
       "      <td>0.0</td>\n",
       "      <td>0.0</td>\n",
       "      <td>8.83</td>\n",
       "      <td>0.96</td>\n",
       "      <td>5.082196</td>\n",
       "      <td>2010-04-26</td>\n",
       "      <td>2010.0</td>\n",
       "      <td>PRIMAVERA</td>\n",
       "    </tr>\n",
       "    <tr>\n",
       "      <th>4</th>\n",
       "      <td>27/04/2010</td>\n",
       "      <td>AL41</td>\n",
       "      <td>1.92</td>\n",
       "      <td>10.19</td>\n",
       "      <td>165.98</td>\n",
       "      <td>174.00</td>\n",
       "      <td>8.59</td>\n",
       "      <td>28.48</td>\n",
       "      <td>18.05</td>\n",
       "      <td>7.913</td>\n",
       "      <td>...</td>\n",
       "      <td>12.0</td>\n",
       "      <td>0.0</td>\n",
       "      <td>0.0</td>\n",
       "      <td>0.0</td>\n",
       "      <td>8.47</td>\n",
       "      <td>1.14</td>\n",
       "      <td>5.563509</td>\n",
       "      <td>2010-04-27</td>\n",
       "      <td>2010.0</td>\n",
       "      <td>PRIMAVERA</td>\n",
       "    </tr>\n",
       "  </tbody>\n",
       "</table>\n",
       "<p>5 rows × 28 columns</p>\n",
       "</div>"
      ],
      "text/plain": [
       "        FECHA CODEST  VVMED  VVMAX  RVIENTO   DVMED   TMIN   TMAX   TMED  \\\n",
       "0  23/04/2010   AL41   1.51   8.23   130.06  145.15   9.74  21.44  16.07   \n",
       "1  24/04/2010   AL41   1.64   8.13   141.92  176.62  10.79  25.06  17.78   \n",
       "2  25/04/2010   AL41   1.54   8.43   132.96   94.79  11.79  24.97  17.31   \n",
       "3  26/04/2010   AL41   1.75   9.11   151.19  130.98   8.98  25.68  17.27   \n",
       "4  27/04/2010   AL41   1.92  10.19   165.98  174.00   8.59  28.48  18.05   \n",
       "\n",
       "   TMINABS  ...  HSOL  PREC  HORAS0  HORAS7  DEWPT   DPV  ETO_PM_FAO  \\\n",
       "0    9.250  ...  11.0   0.1     0.0     0.0  12.41  0.51    3.010548   \n",
       "1   10.330  ...  12.0   0.0     0.0     0.0  11.81  0.74    4.496808   \n",
       "2   11.330  ...  10.0   0.0     0.0     0.0  12.08  0.64    3.886669   \n",
       "3    8.420  ...  12.0   0.0     0.0     0.0   8.83  0.96    5.082196   \n",
       "4    7.913  ...  12.0   0.0     0.0     0.0   8.47  1.14    5.563509   \n",
       "\n",
       "      FECHA_2     AÑO   ESTACION  \n",
       "0  2010-04-23  2010.0  PRIMAVERA  \n",
       "1  2010-04-24  2010.0  PRIMAVERA  \n",
       "2  2010-04-25  2010.0  PRIMAVERA  \n",
       "3  2010-04-26  2010.0  PRIMAVERA  \n",
       "4  2010-04-27  2010.0  PRIMAVERA  \n",
       "\n",
       "[5 rows x 28 columns]"
      ]
     },
     "execution_count": 2,
     "metadata": {},
     "output_type": "execute_result"
    }
   ],
   "source": [
    "dataset = pd.read_csv('/home/user/machinelearning/imida/data/AL41_valores_imputados.csv')\n",
    "dataset.head()"
   ]
  },
  {
   "cell_type": "markdown",
   "metadata": {},
   "source": [
    "## Separar dataset"
   ]
  },
  {
   "cell_type": "code",
   "execution_count": 3,
   "metadata": {},
   "outputs": [
    {
     "name": "stdout",
     "output_type": "stream",
     "text": [
      "[[1.51 8.23 130.06 ... 12.41 0.51 3.010548433]\n",
      " [1.64 8.13 141.92 ... 11.81 0.74 4.496808253]\n",
      " [1.54 8.43 132.96 ... 12.08 0.64 3.886668604]\n",
      " ...\n",
      " [2.8 9.6 241.88 ... 1.4 0.82 2.819171591]\n",
      " [3.84 12.54 332.07 ... 0.99 0.96 3.683019055]\n",
      " [3.05 8.7 263.77 ... 2.53 0.88 2.908153209]]\n",
      "['PRIMAVERA' 'PRIMAVERA' 'PRIMAVERA' ... 'INVIERNO' 'INVIERNO' 'INVIERNO']\n"
     ]
    }
   ],
   "source": [
    "dataset_reducido = dataset.select_dtypes(include=['float64', 'int64', 'int32'])\n",
    "dataset_reducido['ESTACION'] = dataset['ESTACION']\n",
    "array = dataset_reducido.values\n",
    "X = array[:,0:-2]\n",
    "Y = array[:,-1]\n",
    "print(X)\n",
    "print(Y)"
   ]
  },
  {
   "cell_type": "markdown",
   "metadata": {},
   "source": [
    "## Estandarizar"
   ]
  },
  {
   "cell_type": "code",
   "execution_count": 4,
   "metadata": {},
   "outputs": [
    {
     "name": "stdout",
     "output_type": "stream",
     "text": [
      "[[-0.78218139 -0.36518946 -0.78794258 ...  0.70215484 -0.87121103\n",
      "  -0.48965848]\n",
      " [-0.62288653 -0.40440915 -0.61971062 ...  0.60351245 -0.47650625\n",
      "   0.1991642 ]\n",
      " [-0.74542103 -0.28675007 -0.7468066  ...  0.64790152 -0.64811702\n",
      "  -0.08361141]\n",
      " ...\n",
      " [ 0.79851376  0.17212037  0.79820387 ... -1.10793295 -0.33921762\n",
      "  -0.57835408]\n",
      " [ 2.07287264  1.32517941  2.07753269 ... -1.17533859 -0.09896254\n",
      "  -0.17799493]\n",
      " [ 1.10485003 -0.18085689  1.10870956 ... -0.92215646 -0.23625116\n",
      "  -0.53711462]]\n"
     ]
    }
   ],
   "source": [
    "standard_scaler = StandardScaler().fit(X)\n",
    "X_estandarizado = standard_scaler.transform(X)\n",
    "print(X_estandarizado)"
   ]
  },
  {
   "cell_type": "markdown",
   "metadata": {},
   "source": [
    "## Separar prueba-entrenamiento"
   ]
  },
  {
   "cell_type": "code",
   "execution_count": 5,
   "metadata": {},
   "outputs": [],
   "source": [
    "validation_size = 0.20\n",
    "seed = 7\n",
    "X_train, X_validation, Y_train, Y_validation = train_test_split(X_estandarizado, Y, test_size=validation_size, random_state=seed, shuffle=False)"
   ]
  },
  {
   "cell_type": "markdown",
   "metadata": {},
   "source": [
    "## Valores para entrenar"
   ]
  },
  {
   "cell_type": "code",
   "execution_count": 6,
   "metadata": {},
   "outputs": [],
   "source": [
    "num_folds = 10\n",
    "seed = 7\n",
    "scoring = 'accuracy'\n",
    "kfold = KFold(n_splits=num_folds, random_state=seed, shuffle=True)"
   ]
  },
  {
   "cell_type": "markdown",
   "metadata": {},
   "source": [
    "## Probar modelos"
   ]
  },
  {
   "cell_type": "markdown",
   "metadata": {},
   "source": [
    "### Logistic Regression"
   ]
  },
  {
   "cell_type": "code",
   "execution_count": 7,
   "metadata": {},
   "outputs": [
    {
     "name": "stdout",
     "output_type": "stream",
     "text": [
      "0.8235071328109302 0.016199433175332324\n"
     ]
    }
   ],
   "source": [
    "result_lr = cross_val_score(LogisticRegression(max_iter=500), X_train, Y_train, cv=kfold, scoring=scoring)\n",
    "print(result_lr.mean(), result_lr.std())"
   ]
  },
  {
   "cell_type": "markdown",
   "metadata": {},
   "source": [
    "### Linear discriminant analysis"
   ]
  },
  {
   "cell_type": "code",
   "execution_count": 8,
   "metadata": {},
   "outputs": [
    {
     "name": "stdout",
     "output_type": "stream",
     "text": [
      "0.8232007233273055 0.021387794933565452\n"
     ]
    }
   ],
   "source": [
    "result_lda = cross_val_score(LinearDiscriminantAnalysis(), X_train, Y_train, cv=kfold, scoring=scoring)\n",
    "print(result_lda.mean(), result_lda.std())"
   ]
  },
  {
   "cell_type": "markdown",
   "metadata": {},
   "source": [
    "### k-nearest neighbors"
   ]
  },
  {
   "cell_type": "code",
   "execution_count": 9,
   "metadata": {},
   "outputs": [
    {
     "name": "stdout",
     "output_type": "stream",
     "text": [
      "0.8003877838055053 0.020935235453101067\n"
     ]
    },
    {
     "name": "stderr",
     "output_type": "stream",
     "text": [
      "/home/user/machinelearning/env/lib/python3.11/site-packages/joblib/externals/loky/backend/context.py:136: UserWarning: Could not find the number of physical cores for the following reason:\n",
      "[Errno 2] No such file or directory: 'lscpu'\n",
      "Returning the number of logical cores instead. You can silence this warning by setting LOKY_MAX_CPU_COUNT to the number of cores you want to use.\n",
      "  warnings.warn(\n",
      "  File \"/home/user/machinelearning/env/lib/python3.11/site-packages/joblib/externals/loky/backend/context.py\", line 250, in _count_physical_cores\n",
      "    cpu_info = subprocess.run(\n",
      "               ^^^^^^^^^^^^^^^\n",
      "  File \"/nix/store/mh6gqjf1w1i6ln1a61psnz0gzdmwrspl-python3-3.11.8/lib/python3.11/subprocess.py\", line 548, in run\n",
      "    with Popen(*popenargs, **kwargs) as process:\n",
      "         ^^^^^^^^^^^^^^^^^^^^^^^^^^^\n",
      "  File \"/nix/store/mh6gqjf1w1i6ln1a61psnz0gzdmwrspl-python3-3.11.8/lib/python3.11/subprocess.py\", line 1026, in __init__\n",
      "    self._execute_child(args, executable, preexec_fn, close_fds,\n",
      "  File \"/nix/store/mh6gqjf1w1i6ln1a61psnz0gzdmwrspl-python3-3.11.8/lib/python3.11/subprocess.py\", line 1953, in _execute_child\n",
      "    raise child_exception_type(errno_num, err_msg, err_filename)\n"
     ]
    }
   ],
   "source": [
    "result_knn = cross_val_score(KNeighborsClassifier(), X_train, Y_train, cv=kfold, scoring=scoring)\n",
    "print(result_knn.mean(), result_knn.std())"
   ]
  },
  {
   "cell_type": "markdown",
   "metadata": {},
   "source": [
    "### Clasification tree"
   ]
  },
  {
   "cell_type": "code",
   "execution_count": 10,
   "metadata": {},
   "outputs": [
    {
     "name": "stdout",
     "output_type": "stream",
     "text": [
      "0.7750281293952179 0.02378036645047852\n"
     ]
    }
   ],
   "source": [
    "result_cart = cross_val_score(DecisionTreeClassifier(), X_train, Y_train, cv=kfold, scoring=scoring)\n",
    "print(result_cart.mean(), result_cart.std())"
   ]
  },
  {
   "cell_type": "markdown",
   "metadata": {},
   "source": [
    "### Gaussian naive Bayes"
   ]
  },
  {
   "cell_type": "code",
   "execution_count": 11,
   "metadata": {},
   "outputs": [
    {
     "name": "stdout",
     "output_type": "stream",
     "text": [
      "0.662866184448463 0.024258205749805167\n"
     ]
    }
   ],
   "source": [
    "result_gnb = cross_val_score(GaussianNB(), X_train, Y_train, cv=kfold, scoring=scoring)\n",
    "print(result_gnb.mean(), result_gnb.std())"
   ]
  },
  {
   "cell_type": "markdown",
   "metadata": {},
   "source": [
    "### Support vector machines"
   ]
  },
  {
   "cell_type": "code",
   "execution_count": 12,
   "metadata": {},
   "outputs": [
    {
     "name": "stdout",
     "output_type": "stream",
     "text": [
      "0.822242314647378 0.01816559202969324\n"
     ]
    }
   ],
   "source": [
    "result_svc = cross_val_score(SVC(), X_train, Y_train, cv=kfold, scoring=scoring)\n",
    "print(result_svc.mean(), result_svc.std())"
   ]
  },
  {
   "cell_type": "markdown",
   "metadata": {},
   "source": [
    "## Tunning"
   ]
  },
  {
   "cell_type": "markdown",
   "metadata": {},
   "source": [
    "He decidido tunear el linear discriminant analysis, ya que es el que mejor resultados da junto a Logistic Regression y tarda menos que este último"
   ]
  },
  {
   "cell_type": "code",
   "execution_count": 13,
   "metadata": {},
   "outputs": [
    {
     "data": {
      "text/plain": [
       "'\\nparam_grid = dict(solver=[\\'svd\\', \\'lsqr\\', \\'eigen\\'], shrinkage=[None, \\'auto\\'], store_covariance=[True, False])\\nkfold = KFold(n_splits=num_folds, random_state=seed, shuffle=True)\\ngrid = GridSearchCV(estimator=LinearDiscriminantAnalysis(), param_grid=param_grid, scoring=scoring, cv=kfold)\\ngrid_result = grid.fit(X_train, Y_train)\\nprint(\"Best: %f using %s\" % (grid_result.best_score_, grid_result.best_params_))\\nmeans = grid_result.cv_results_[\\'mean_test_score\\']\\nstds = grid_result.cv_results_[\\'std_test_score\\']\\nparams = grid_result.cv_results_[\\'params\\']\\nfor mean, stdev, param in zip(means, stds, params):\\n    print(\"%f (%f) with: %r\" % (mean, stdev, param))\\n'"
      ]
     },
     "execution_count": 13,
     "metadata": {},
     "output_type": "execute_result"
    }
   ],
   "source": [
    "'''\n",
    "param_grid = dict(solver=['svd', 'lsqr', 'eigen'], shrinkage=[None, 'auto'], store_covariance=[True, False])\n",
    "kfold = KFold(n_splits=num_folds, random_state=seed, shuffle=True)\n",
    "grid = GridSearchCV(estimator=LinearDiscriminantAnalysis(), param_grid=param_grid, scoring=scoring, cv=kfold)\n",
    "grid_result = grid.fit(X_train, Y_train)\n",
    "print(\"Best: %f using %s\" % (grid_result.best_score_, grid_result.best_params_))\n",
    "means = grid_result.cv_results_['mean_test_score']\n",
    "stds = grid_result.cv_results_['std_test_score']\n",
    "params = grid_result.cv_results_['params']\n",
    "for mean, stdev, param in zip(means, stds, params):\n",
    "    print(\"%f (%f) with: %r\" % (mean, stdev, param))\n",
    "'''"
   ]
  },
  {
   "cell_type": "markdown",
   "metadata": {},
   "source": [
    "## Validar"
   ]
  },
  {
   "cell_type": "code",
   "execution_count": 14,
   "metadata": {},
   "outputs": [
    {
     "name": "stdout",
     "output_type": "stream",
     "text": [
      "0.8215189873417722\n",
      "[[166  54   9   0]\n",
      " [ 39 144   1   5]\n",
      " [  6  10 161   7]\n",
      " [  0   8   2 178]]\n",
      "              precision    recall  f1-score   support\n",
      "\n",
      "    INVIERNO       0.79      0.72      0.75       229\n",
      "       OTOÑO       0.67      0.76      0.71       189\n",
      "   PRIMAVERA       0.93      0.88      0.90       184\n",
      "      VERANO       0.94      0.95      0.94       188\n",
      "\n",
      "    accuracy                           0.82       790\n",
      "   macro avg       0.83      0.83      0.83       790\n",
      "weighted avg       0.83      0.82      0.82       790\n",
      "\n"
     ]
    }
   ],
   "source": [
    "model = LinearDiscriminantAnalysis(store_covariance=True)\n",
    "model.fit(X_train, Y_train)\n",
    "predictions = model.predict(X_validation)\n",
    "print(accuracy_score(Y_validation, predictions))\n",
    "print(confusion_matrix(Y_validation, predictions))\n",
    "print(classification_report(Y_validation, predictions))"
   ]
  },
  {
   "cell_type": "markdown",
   "metadata": {},
   "source": [
    "# Validación"
   ]
  },
  {
   "cell_type": "markdown",
   "metadata": {},
   "source": [
    "## Descargar dataset"
   ]
  },
  {
   "cell_type": "code",
   "execution_count": 15,
   "metadata": {},
   "outputs": [
    {
     "data": {
      "text/html": [
       "<div>\n",
       "<style scoped>\n",
       "    .dataframe tbody tr th:only-of-type {\n",
       "        vertical-align: middle;\n",
       "    }\n",
       "\n",
       "    .dataframe tbody tr th {\n",
       "        vertical-align: top;\n",
       "    }\n",
       "\n",
       "    .dataframe thead th {\n",
       "        text-align: right;\n",
       "    }\n",
       "</style>\n",
       "<table border=\"1\" class=\"dataframe\">\n",
       "  <thead>\n",
       "    <tr style=\"text-align: right;\">\n",
       "      <th></th>\n",
       "      <th>CODEST</th>\n",
       "      <th>FECHA</th>\n",
       "      <th>VVMED</th>\n",
       "      <th>VVMAX</th>\n",
       "      <th>RVIENTO</th>\n",
       "      <th>DVMED</th>\n",
       "      <th>TMIN</th>\n",
       "      <th>TMAX</th>\n",
       "      <th>TMED</th>\n",
       "      <th>TMINABS</th>\n",
       "      <th>...</th>\n",
       "      <th>HRMAXABS</th>\n",
       "      <th>RADMED</th>\n",
       "      <th>RADMAX</th>\n",
       "      <th>HSOL</th>\n",
       "      <th>PREC</th>\n",
       "      <th>HORAS0</th>\n",
       "      <th>HORAS7</th>\n",
       "      <th>DEWPT</th>\n",
       "      <th>DPV</th>\n",
       "      <th>ETO_PM_FAO</th>\n",
       "    </tr>\n",
       "  </thead>\n",
       "  <tbody>\n",
       "    <tr>\n",
       "      <th>0</th>\n",
       "      <td>AL41</td>\n",
       "      <td>01/01/2024</td>\n",
       "      <td>0,32</td>\n",
       "      <td>4,822</td>\n",
       "      <td>27,99</td>\n",
       "      <td>59,83</td>\n",
       "      <td>3,63</td>\n",
       "      <td>17,67</td>\n",
       "      <td>9,75</td>\n",
       "      <td>2,563</td>\n",
       "      <td>...</td>\n",
       "      <td>83,8</td>\n",
       "      <td>102,32</td>\n",
       "      <td>514,3</td>\n",
       "      <td>6</td>\n",
       "      <td>0</td>\n",
       "      <td>0</td>\n",
       "      <td>8</td>\n",
       "      <td>2,26</td>\n",
       "      <td>0,53</td>\n",
       "      <td>0,713398532</td>\n",
       "    </tr>\n",
       "    <tr>\n",
       "      <th>1</th>\n",
       "      <td>AL41</td>\n",
       "      <td>02/01/2024</td>\n",
       "      <td>0,09</td>\n",
       "      <td>4,665</td>\n",
       "      <td>7,55</td>\n",
       "      <td>168,79</td>\n",
       "      <td>0,74</td>\n",
       "      <td>18,11</td>\n",
       "      <td>7,64</td>\n",
       "      <td>-0,196</td>\n",
       "      <td>...</td>\n",
       "      <td>85</td>\n",
       "      <td>113,44</td>\n",
       "      <td>797,1</td>\n",
       "      <td>8</td>\n",
       "      <td>0</td>\n",
       "      <td>0</td>\n",
       "      <td>13</td>\n",
       "      <td>0,76</td>\n",
       "      <td>0,47</td>\n",
       "      <td>0,422334652</td>\n",
       "    </tr>\n",
       "    <tr>\n",
       "      <th>2</th>\n",
       "      <td>AL41</td>\n",
       "      <td>03/01/2024</td>\n",
       "      <td>0,15</td>\n",
       "      <td>3,744</td>\n",
       "      <td>13,15</td>\n",
       "      <td>168,93</td>\n",
       "      <td>1,92</td>\n",
       "      <td>21,51</td>\n",
       "      <td>9,58</td>\n",
       "      <td>0,92</td>\n",
       "      <td>...</td>\n",
       "      <td>83,4</td>\n",
       "      <td>123,81</td>\n",
       "      <td>529,7</td>\n",
       "      <td>8</td>\n",
       "      <td>0</td>\n",
       "      <td>0</td>\n",
       "      <td>9</td>\n",
       "      <td>0,79</td>\n",
       "      <td>0,67</td>\n",
       "      <td>0,548790064</td>\n",
       "    </tr>\n",
       "    <tr>\n",
       "      <th>3</th>\n",
       "      <td>AL41</td>\n",
       "      <td>04/01/2024</td>\n",
       "      <td>0,06</td>\n",
       "      <td>4,292</td>\n",
       "      <td>4,83</td>\n",
       "      <td>32,82</td>\n",
       "      <td>6,47</td>\n",
       "      <td>17,34</td>\n",
       "      <td>12,18</td>\n",
       "      <td>5,732</td>\n",
       "      <td>...</td>\n",
       "      <td>86,7</td>\n",
       "      <td>51,55</td>\n",
       "      <td>411,5</td>\n",
       "      <td>6</td>\n",
       "      <td>0</td>\n",
       "      <td>0</td>\n",
       "      <td>2</td>\n",
       "      <td>7,13</td>\n",
       "      <td>0,43</td>\n",
       "      <td>0,589718576</td>\n",
       "    </tr>\n",
       "    <tr>\n",
       "      <th>4</th>\n",
       "      <td>AL41</td>\n",
       "      <td>05/01/2024</td>\n",
       "      <td>1,97</td>\n",
       "      <td>9,45</td>\n",
       "      <td>170,4</td>\n",
       "      <td>263,44</td>\n",
       "      <td>7,52</td>\n",
       "      <td>16,55</td>\n",
       "      <td>12,27</td>\n",
       "      <td>6,798</td>\n",
       "      <td>...</td>\n",
       "      <td>86,8</td>\n",
       "      <td>89,73</td>\n",
       "      <td>704,6</td>\n",
       "      <td>7</td>\n",
       "      <td>0</td>\n",
       "      <td>0</td>\n",
       "      <td>0</td>\n",
       "      <td>2,53</td>\n",
       "      <td>0,67</td>\n",
       "      <td>1,843253317</td>\n",
       "    </tr>\n",
       "  </tbody>\n",
       "</table>\n",
       "<p>5 rows × 25 columns</p>\n",
       "</div>"
      ],
      "text/plain": [
       "  CODEST       FECHA VVMED  VVMAX RVIENTO   DVMED  TMIN   TMAX   TMED TMINABS  \\\n",
       "0   AL41  01/01/2024  0,32  4,822   27,99   59,83  3,63  17,67   9,75   2,563   \n",
       "1   AL41  02/01/2024  0,09  4,665    7,55  168,79  0,74  18,11   7,64  -0,196   \n",
       "2   AL41  03/01/2024  0,15  3,744   13,15  168,93  1,92  21,51   9,58    0,92   \n",
       "3   AL41  04/01/2024  0,06  4,292    4,83   32,82  6,47  17,34  12,18   5,732   \n",
       "4   AL41  05/01/2024  1,97   9,45   170,4  263,44  7,52  16,55  12,27   6,798   \n",
       "\n",
       "   ... HRMAXABS  RADMED RADMAX HSOL PREC HORAS0 HORAS7 DEWPT   DPV  \\\n",
       "0  ...     83,8  102,32  514,3    6    0      0      8  2,26  0,53   \n",
       "1  ...       85  113,44  797,1    8    0      0     13  0,76  0,47   \n",
       "2  ...     83,4  123,81  529,7    8    0      0      9  0,79  0,67   \n",
       "3  ...     86,7   51,55  411,5    6    0      0      2  7,13  0,43   \n",
       "4  ...     86,8   89,73  704,6    7    0      0      0  2,53  0,67   \n",
       "\n",
       "    ETO_PM_FAO  \n",
       "0  0,713398532  \n",
       "1  0,422334652  \n",
       "2  0,548790064  \n",
       "3  0,589718576  \n",
       "4  1,843253317  \n",
       "\n",
       "[5 rows x 25 columns]"
      ]
     },
     "execution_count": 15,
     "metadata": {},
     "output_type": "execute_result"
    }
   ],
   "source": [
    "df = pd.read_csv('/home/user/machinelearning/imida/data/AL41.csv', sep=';')\n",
    "dataset_validacion = pd.read_csv('/home/user/machinelearning/imida/data/AL41_validation.csv', sep=';', names=df.columns)\n",
    "dataset_validacion.dropna(inplace=True)\n",
    "dataset_validacion.head()"
   ]
  },
  {
   "cell_type": "markdown",
   "metadata": {},
   "source": [
    "## Preparar dataset"
   ]
  },
  {
   "cell_type": "markdown",
   "metadata": {},
   "source": [
    "### Floats"
   ]
  },
  {
   "cell_type": "code",
   "execution_count": 16,
   "metadata": {},
   "outputs": [],
   "source": [
    "dataset_validacion.replace(',', '.', regex=True, inplace=True)\n",
    "dataset_validacion = dataset_validacion.astype(str)   #Pasamos todo a String\n",
    "for variable in dataset_validacion.columns:\n",
    "    for x in dataset_validacion[variable]:\n",
    "        if(('.' in x) or (x.isdigit())):   #Sería mejor una expresión regular del estilo [0-9]*[.][0-9]+\n",
    "            #Si encontramos una variable con un punto, significa que es un float, por lo que lo pasamos a float\n",
    "            dataset_validacion[variable] = dataset_validacion[variable].astype(float)\n",
    "            break   #Con detectar una nos vale para cambiar toda la columna"
   ]
  },
  {
   "cell_type": "markdown",
   "metadata": {},
   "source": [
    "### Fechas"
   ]
  },
  {
   "cell_type": "code",
   "execution_count": 17,
   "metadata": {},
   "outputs": [
    {
     "data": {
      "text/plain": [
       "CODEST                object\n",
       "FECHA         datetime64[ns]\n",
       "VVMED                float64\n",
       "VVMAX                float64\n",
       "RVIENTO              float64\n",
       "DVMED                float64\n",
       "TMIN                 float64\n",
       "TMAX                 float64\n",
       "TMED                 float64\n",
       "TMINABS              float64\n",
       "TMAXABS              float64\n",
       "HRMIN                float64\n",
       "HRMAX                float64\n",
       "HRMED                float64\n",
       "HRMINABS             float64\n",
       "HRMAXABS             float64\n",
       "RADMED               float64\n",
       "RADMAX               float64\n",
       "HSOL                 float64\n",
       "PREC                 float64\n",
       "HORAS0               float64\n",
       "HORAS7               float64\n",
       "DEWPT                float64\n",
       "DPV                  float64\n",
       "ETO_PM_FAO           float64\n",
       "dtype: object"
      ]
     },
     "execution_count": 17,
     "metadata": {},
     "output_type": "execute_result"
    }
   ],
   "source": [
    "dataset_validacion['FECHA'] = pd.to_datetime(dataset_validacion['FECHA'], format=\"%d/%m/%Y\")\n",
    "dataset_validacion.dtypes"
   ]
  },
  {
   "cell_type": "code",
   "execution_count": 18,
   "metadata": {},
   "outputs": [
    {
     "data": {
      "text/html": [
       "<div>\n",
       "<style scoped>\n",
       "    .dataframe tbody tr th:only-of-type {\n",
       "        vertical-align: middle;\n",
       "    }\n",
       "\n",
       "    .dataframe tbody tr th {\n",
       "        vertical-align: top;\n",
       "    }\n",
       "\n",
       "    .dataframe thead th {\n",
       "        text-align: right;\n",
       "    }\n",
       "</style>\n",
       "<table border=\"1\" class=\"dataframe\">\n",
       "  <thead>\n",
       "    <tr style=\"text-align: right;\">\n",
       "      <th></th>\n",
       "      <th>CODEST</th>\n",
       "      <th>FECHA</th>\n",
       "      <th>VVMED</th>\n",
       "      <th>VVMAX</th>\n",
       "      <th>RVIENTO</th>\n",
       "      <th>DVMED</th>\n",
       "      <th>TMIN</th>\n",
       "      <th>TMAX</th>\n",
       "      <th>TMED</th>\n",
       "      <th>TMINABS</th>\n",
       "      <th>...</th>\n",
       "      <th>RADMED</th>\n",
       "      <th>RADMAX</th>\n",
       "      <th>HSOL</th>\n",
       "      <th>PREC</th>\n",
       "      <th>HORAS0</th>\n",
       "      <th>HORAS7</th>\n",
       "      <th>DEWPT</th>\n",
       "      <th>DPV</th>\n",
       "      <th>ETO_PM_FAO</th>\n",
       "      <th>ESTACION</th>\n",
       "    </tr>\n",
       "  </thead>\n",
       "  <tbody>\n",
       "    <tr>\n",
       "      <th>162</th>\n",
       "      <td>AL41</td>\n",
       "      <td>2024-06-11</td>\n",
       "      <td>1.48</td>\n",
       "      <td>6.017</td>\n",
       "      <td>127.67</td>\n",
       "      <td>333.79</td>\n",
       "      <td>16.46</td>\n",
       "      <td>24.00</td>\n",
       "      <td>19.75</td>\n",
       "      <td>16.16</td>\n",
       "      <td>...</td>\n",
       "      <td>136.49</td>\n",
       "      <td>1296.0</td>\n",
       "      <td>8.0</td>\n",
       "      <td>2.3</td>\n",
       "      <td>0.0</td>\n",
       "      <td>0.0</td>\n",
       "      <td>16.35</td>\n",
       "      <td>0.46</td>\n",
       "      <td>2.777017</td>\n",
       "      <td>PRIMAVERA</td>\n",
       "    </tr>\n",
       "    <tr>\n",
       "      <th>163</th>\n",
       "      <td>AL41</td>\n",
       "      <td>2024-06-12</td>\n",
       "      <td>2.82</td>\n",
       "      <td>9.760</td>\n",
       "      <td>243.99</td>\n",
       "      <td>306.15</td>\n",
       "      <td>14.98</td>\n",
       "      <td>22.59</td>\n",
       "      <td>19.38</td>\n",
       "      <td>14.20</td>\n",
       "      <td>...</td>\n",
       "      <td>187.19</td>\n",
       "      <td>1404.0</td>\n",
       "      <td>10.0</td>\n",
       "      <td>12.5</td>\n",
       "      <td>0.0</td>\n",
       "      <td>0.0</td>\n",
       "      <td>15.45</td>\n",
       "      <td>0.51</td>\n",
       "      <td>3.443402</td>\n",
       "      <td>PRIMAVERA</td>\n",
       "    </tr>\n",
       "    <tr>\n",
       "      <th>164</th>\n",
       "      <td>AL41</td>\n",
       "      <td>2024-06-13</td>\n",
       "      <td>2.09</td>\n",
       "      <td>8.330</td>\n",
       "      <td>180.96</td>\n",
       "      <td>343.45</td>\n",
       "      <td>13.33</td>\n",
       "      <td>25.80</td>\n",
       "      <td>19.36</td>\n",
       "      <td>12.52</td>\n",
       "      <td>...</td>\n",
       "      <td>303.16</td>\n",
       "      <td>1384.0</td>\n",
       "      <td>13.0</td>\n",
       "      <td>0.2</td>\n",
       "      <td>0.0</td>\n",
       "      <td>0.0</td>\n",
       "      <td>14.53</td>\n",
       "      <td>0.66</td>\n",
       "      <td>4.947626</td>\n",
       "      <td>PRIMAVERA</td>\n",
       "    </tr>\n",
       "    <tr>\n",
       "      <th>165</th>\n",
       "      <td>AL41</td>\n",
       "      <td>2024-06-14</td>\n",
       "      <td>2.02</td>\n",
       "      <td>8.430</td>\n",
       "      <td>174.91</td>\n",
       "      <td>320.70</td>\n",
       "      <td>12.74</td>\n",
       "      <td>33.07</td>\n",
       "      <td>23.40</td>\n",
       "      <td>12.02</td>\n",
       "      <td>...</td>\n",
       "      <td>339.04</td>\n",
       "      <td>1178.0</td>\n",
       "      <td>13.0</td>\n",
       "      <td>0.0</td>\n",
       "      <td>0.0</td>\n",
       "      <td>0.0</td>\n",
       "      <td>9.28</td>\n",
       "      <td>1.88</td>\n",
       "      <td>7.061606</td>\n",
       "      <td>PRIMAVERA</td>\n",
       "    </tr>\n",
       "    <tr>\n",
       "      <th>166</th>\n",
       "      <td>AL41</td>\n",
       "      <td>2024-06-15</td>\n",
       "      <td>2.50</td>\n",
       "      <td>11.900</td>\n",
       "      <td>216.15</td>\n",
       "      <td>334.70</td>\n",
       "      <td>17.93</td>\n",
       "      <td>33.68</td>\n",
       "      <td>24.96</td>\n",
       "      <td>17.40</td>\n",
       "      <td>...</td>\n",
       "      <td>307.51</td>\n",
       "      <td>1209.0</td>\n",
       "      <td>11.0</td>\n",
       "      <td>4.0</td>\n",
       "      <td>0.0</td>\n",
       "      <td>0.0</td>\n",
       "      <td>12.55</td>\n",
       "      <td>1.81</td>\n",
       "      <td>7.290027</td>\n",
       "      <td>PRIMAVERA</td>\n",
       "    </tr>\n",
       "  </tbody>\n",
       "</table>\n",
       "<p>5 rows × 26 columns</p>\n",
       "</div>"
      ],
      "text/plain": [
       "    CODEST      FECHA  VVMED   VVMAX  RVIENTO   DVMED   TMIN   TMAX   TMED  \\\n",
       "162   AL41 2024-06-11   1.48   6.017   127.67  333.79  16.46  24.00  19.75   \n",
       "163   AL41 2024-06-12   2.82   9.760   243.99  306.15  14.98  22.59  19.38   \n",
       "164   AL41 2024-06-13   2.09   8.330   180.96  343.45  13.33  25.80  19.36   \n",
       "165   AL41 2024-06-14   2.02   8.430   174.91  320.70  12.74  33.07  23.40   \n",
       "166   AL41 2024-06-15   2.50  11.900   216.15  334.70  17.93  33.68  24.96   \n",
       "\n",
       "     TMINABS  ...  RADMED  RADMAX  HSOL  PREC  HORAS0  HORAS7  DEWPT   DPV  \\\n",
       "162    16.16  ...  136.49  1296.0   8.0   2.3     0.0     0.0  16.35  0.46   \n",
       "163    14.20  ...  187.19  1404.0  10.0  12.5     0.0     0.0  15.45  0.51   \n",
       "164    12.52  ...  303.16  1384.0  13.0   0.2     0.0     0.0  14.53  0.66   \n",
       "165    12.02  ...  339.04  1178.0  13.0   0.0     0.0     0.0   9.28  1.88   \n",
       "166    17.40  ...  307.51  1209.0  11.0   4.0     0.0     0.0  12.55  1.81   \n",
       "\n",
       "     ETO_PM_FAO   ESTACION  \n",
       "162    2.777017  PRIMAVERA  \n",
       "163    3.443402  PRIMAVERA  \n",
       "164    4.947626  PRIMAVERA  \n",
       "165    7.061606  PRIMAVERA  \n",
       "166    7.290027  PRIMAVERA  \n",
       "\n",
       "[5 rows x 26 columns]"
      ]
     },
     "execution_count": 18,
     "metadata": {},
     "output_type": "execute_result"
    }
   ],
   "source": [
    "estaciones = []\n",
    "for x in dataset_validacion['FECHA'].values:\n",
    "    if(int(x.astype(str)[5:7]) < 3):\n",
    "        estaciones.append('INVIERNO')\n",
    "    elif(int(x.astype(str)[5:7]) == 3):\n",
    "        if(int(x.astype(str)[8:10]) <= 20):\n",
    "            estaciones.append('INVIERNO')\n",
    "        else:\n",
    "            estaciones.append('PRIMAVERA')\n",
    "    elif(int(x.astype(str)[5:7]) < 6):\n",
    "        estaciones.append('PRIMAVERA')\n",
    "    elif(int(x.astype(str)[5:7]) == 6):\n",
    "        if(int(x.astype(str)[8:10]) <= 20):\n",
    "            estaciones.append('PRIMAVERA')\n",
    "        else:\n",
    "            estaciones.append('VERANO')\n",
    "    elif(int(x.astype(str)[5:7]) < 9):\n",
    "        estaciones.append('VERANO')\n",
    "    elif(int(x.astype(str)[5:7]) == 9):\n",
    "        if(int(x.astype(str)[8:10]) <= 22):\n",
    "            estaciones.append('VERANO')\n",
    "        else:\n",
    "            estaciones.append('OTOÑO')\n",
    "    elif(int(x.astype(str)[5:7]) < 12):\n",
    "        estaciones.append('OTOÑO')\n",
    "    else:\n",
    "        if(int(x.astype(str)[8:10]) >= 22):\n",
    "            estaciones.append('INVIERNO')\n",
    "        else:\n",
    "            estaciones.append('OTOÑO')\n",
    "dataset_validacion['ESTACION'] = estaciones\n",
    "dataset_validacion.tail(5)"
   ]
  },
  {
   "cell_type": "markdown",
   "metadata": {},
   "source": [
    "## Datos"
   ]
  },
  {
   "cell_type": "code",
   "execution_count": 19,
   "metadata": {},
   "outputs": [
    {
     "name": "stdout",
     "output_type": "stream",
     "text": [
      "[[3.20000000e-01 4.82200000e+00 2.79900000e+01 ... 2.26000000e+00\n",
      "  5.30000000e-01 7.13398532e-01]\n",
      " [9.00000000e-02 4.66500000e+00 7.55000000e+00 ... 7.60000000e-01\n",
      "  4.70000000e-01 4.22334652e-01]\n",
      " [1.50000000e-01 3.74400000e+00 1.31500000e+01 ... 7.90000000e-01\n",
      "  6.70000000e-01 5.48790064e-01]\n",
      " ...\n",
      " [2.09000000e+00 8.33000000e+00 1.80960000e+02 ... 1.45300000e+01\n",
      "  6.60000000e-01 4.94762602e+00]\n",
      " [2.02000000e+00 8.43000000e+00 1.74910000e+02 ... 9.28000000e+00\n",
      "  1.88000000e+00 7.06160589e+00]\n",
      " [2.50000000e+00 1.19000000e+01 2.16150000e+02 ... 1.25500000e+01\n",
      "  1.81000000e+00 7.29002718e+00]]\n"
     ]
    }
   ],
   "source": [
    "dataset_reducido = dataset_validacion.select_dtypes(include=['float64', 'int64'])\n",
    "X = dataset_reducido.values\n",
    "print(X)"
   ]
  },
  {
   "cell_type": "markdown",
   "metadata": {},
   "source": [
    "## Target"
   ]
  },
  {
   "cell_type": "code",
   "execution_count": 21,
   "metadata": {},
   "outputs": [
    {
     "name": "stdout",
     "output_type": "stream",
     "text": [
      "['INVIERNO' 'INVIERNO' 'INVIERNO' 'INVIERNO' 'INVIERNO' 'INVIERNO'\n",
      " 'INVIERNO' 'INVIERNO' 'INVIERNO' 'INVIERNO' 'INVIERNO' 'INVIERNO'\n",
      " 'INVIERNO' 'INVIERNO' 'INVIERNO' 'INVIERNO' 'INVIERNO' 'INVIERNO'\n",
      " 'INVIERNO' 'INVIERNO' 'INVIERNO' 'INVIERNO' 'INVIERNO' 'INVIERNO'\n",
      " 'INVIERNO' 'INVIERNO' 'INVIERNO' 'INVIERNO' 'INVIERNO' 'INVIERNO'\n",
      " 'INVIERNO' 'INVIERNO' 'INVIERNO' 'INVIERNO' 'INVIERNO' 'INVIERNO'\n",
      " 'INVIERNO' 'INVIERNO' 'INVIERNO' 'INVIERNO' 'INVIERNO' 'INVIERNO'\n",
      " 'INVIERNO' 'INVIERNO' 'INVIERNO' 'INVIERNO' 'INVIERNO' 'INVIERNO'\n",
      " 'INVIERNO' 'INVIERNO' 'INVIERNO' 'INVIERNO' 'INVIERNO' 'INVIERNO'\n",
      " 'INVIERNO' 'INVIERNO' 'INVIERNO' 'INVIERNO' 'INVIERNO' 'INVIERNO'\n",
      " 'INVIERNO' 'INVIERNO' 'INVIERNO' 'INVIERNO' 'INVIERNO' 'INVIERNO'\n",
      " 'INVIERNO' 'INVIERNO' 'INVIERNO' 'INVIERNO' 'INVIERNO' 'INVIERNO'\n",
      " 'INVIERNO' 'INVIERNO' 'INVIERNO' 'INVIERNO' 'INVIERNO' 'INVIERNO'\n",
      " 'PRIMAVERA' 'PRIMAVERA' 'PRIMAVERA' 'PRIMAVERA' 'PRIMAVERA' 'PRIMAVERA'\n",
      " 'PRIMAVERA' 'PRIMAVERA' 'PRIMAVERA' 'PRIMAVERA' 'PRIMAVERA' 'PRIMAVERA'\n",
      " 'PRIMAVERA' 'PRIMAVERA' 'PRIMAVERA' 'PRIMAVERA' 'PRIMAVERA' 'PRIMAVERA'\n",
      " 'PRIMAVERA' 'PRIMAVERA' 'PRIMAVERA' 'PRIMAVERA' 'PRIMAVERA' 'PRIMAVERA'\n",
      " 'PRIMAVERA' 'PRIMAVERA' 'PRIMAVERA' 'PRIMAVERA' 'PRIMAVERA' 'PRIMAVERA'\n",
      " 'PRIMAVERA' 'PRIMAVERA' 'PRIMAVERA' 'PRIMAVERA' 'PRIMAVERA' 'PRIMAVERA'\n",
      " 'PRIMAVERA' 'PRIMAVERA' 'PRIMAVERA' 'PRIMAVERA' 'PRIMAVERA' 'PRIMAVERA'\n",
      " 'PRIMAVERA' 'PRIMAVERA' 'PRIMAVERA' 'PRIMAVERA' 'PRIMAVERA' 'PRIMAVERA'\n",
      " 'PRIMAVERA' 'PRIMAVERA' 'PRIMAVERA' 'PRIMAVERA' 'PRIMAVERA' 'PRIMAVERA'\n",
      " 'PRIMAVERA' 'PRIMAVERA' 'PRIMAVERA' 'PRIMAVERA' 'PRIMAVERA' 'PRIMAVERA'\n",
      " 'PRIMAVERA' 'PRIMAVERA' 'PRIMAVERA' 'PRIMAVERA' 'PRIMAVERA' 'PRIMAVERA'\n",
      " 'PRIMAVERA' 'PRIMAVERA' 'PRIMAVERA' 'PRIMAVERA' 'PRIMAVERA' 'PRIMAVERA'\n",
      " 'PRIMAVERA' 'PRIMAVERA' 'PRIMAVERA' 'PRIMAVERA' 'PRIMAVERA' 'PRIMAVERA'\n",
      " 'PRIMAVERA' 'PRIMAVERA' 'PRIMAVERA' 'PRIMAVERA' 'PRIMAVERA' 'PRIMAVERA'\n",
      " 'PRIMAVERA' 'PRIMAVERA' 'PRIMAVERA']\n"
     ]
    }
   ],
   "source": [
    "Y = dataset_validacion['ESTACION'].values\n",
    "print(Y)"
   ]
  },
  {
   "cell_type": "markdown",
   "metadata": {},
   "source": [
    "## Escalar"
   ]
  },
  {
   "cell_type": "code",
   "execution_count": 22,
   "metadata": {},
   "outputs": [
    {
     "name": "stdout",
     "output_type": "stream",
     "text": [
      "[[-2.24034202 -1.70179668 -2.23578704 ... -0.96654553 -0.83688887\n",
      "  -1.55429667]\n",
      " [-2.52217139 -1.7633716  -2.52572474 ... -1.2131515  -0.93985534\n",
      "  -1.68919327]\n",
      " [-2.44865069 -2.12458499 -2.44628975 ... -1.20821938 -0.59663379\n",
      "  -1.63058619]\n",
      " ...\n",
      " [-0.07148124 -0.32596976 -0.06593529 ...  1.05069127 -0.61379487\n",
      "   0.40810042]\n",
      " [-0.1572554  -0.28675007 -0.15175345 ...  0.18757039  1.4798566\n",
      "   1.38784653]\n",
      " [ 0.43091024  1.07417336  0.43322848 ...  0.72517139  1.35972906\n",
      "   1.49371077]]\n"
     ]
    }
   ],
   "source": [
    "X_estandarizado = standard_scaler.transform(X)\n",
    "print(X_estandarizado)"
   ]
  },
  {
   "cell_type": "markdown",
   "metadata": {},
   "source": [
    "## Validar"
   ]
  },
  {
   "cell_type": "code",
   "execution_count": 23,
   "metadata": {},
   "outputs": [
    {
     "name": "stdout",
     "output_type": "stream",
     "text": [
      "0.5575757575757576\n",
      "[[22 49  6  1]\n",
      " [ 0  0  0  0]\n",
      " [ 2  6 70  9]\n",
      " [ 0  0  0  0]]\n",
      "              precision    recall  f1-score   support\n",
      "\n",
      "    INVIERNO       0.92      0.28      0.43        78\n",
      "       OTOÑO       0.00      0.00      0.00         0\n",
      "   PRIMAVERA       0.92      0.80      0.86        87\n",
      "      VERANO       0.00      0.00      0.00         0\n",
      "\n",
      "    accuracy                           0.56       165\n",
      "   macro avg       0.46      0.27      0.32       165\n",
      "weighted avg       0.92      0.56      0.66       165\n",
      "\n"
     ]
    },
    {
     "name": "stderr",
     "output_type": "stream",
     "text": [
      "/home/user/machinelearning/env/lib/python3.11/site-packages/sklearn/metrics/_classification.py:1531: UndefinedMetricWarning: Recall is ill-defined and being set to 0.0 in labels with no true samples. Use `zero_division` parameter to control this behavior.\n",
      "  _warn_prf(average, modifier, f\"{metric.capitalize()} is\", len(result))\n",
      "/home/user/machinelearning/env/lib/python3.11/site-packages/sklearn/metrics/_classification.py:1531: UndefinedMetricWarning: Recall is ill-defined and being set to 0.0 in labels with no true samples. Use `zero_division` parameter to control this behavior.\n",
      "  _warn_prf(average, modifier, f\"{metric.capitalize()} is\", len(result))\n",
      "/home/user/machinelearning/env/lib/python3.11/site-packages/sklearn/metrics/_classification.py:1531: UndefinedMetricWarning: Recall is ill-defined and being set to 0.0 in labels with no true samples. Use `zero_division` parameter to control this behavior.\n",
      "  _warn_prf(average, modifier, f\"{metric.capitalize()} is\", len(result))\n"
     ]
    }
   ],
   "source": [
    "predictions = model.predict(X_estandarizado)\n",
    "print(accuracy_score(Y, predictions))\n",
    "print(confusion_matrix(Y, predictions))\n",
    "print(classification_report(Y, predictions))"
   ]
  }
 ],
 "metadata": {
  "kernelspec": {
   "display_name": "env",
   "language": "python",
   "name": "python3"
  },
  "language_info": {
   "codemirror_mode": {
    "name": "ipython",
    "version": 3
   },
   "file_extension": ".py",
   "mimetype": "text/x-python",
   "name": "python",
   "nbconvert_exporter": "python",
   "pygments_lexer": "ipython3",
   "version": "3.11.8"
  }
 },
 "nbformat": 4,
 "nbformat_minor": 2
}
